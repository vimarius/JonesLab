{
 "cells": [
  {
   "cell_type": "markdown",
   "id": "ed90c1f1",
   "metadata": {},
   "source": [
    "# Gather required libraries"
   ]
  },
  {
   "cell_type": "code",
   "execution_count": 1,
   "id": "ebdaa803",
   "metadata": {},
   "outputs": [],
   "source": [
    "import scipy\n",
    "from scipy.integrate import odeint\n",
    "import numpy as np\n",
    "from scipy.optimize import curve_fit\n",
    "from scipy.optimize import least_squares\n",
    "import matplotlib.pyplot as plt\n",
    "from scipy.integrate import solve_ivp"
   ]
  },
  {
   "cell_type": "markdown",
   "id": "c88fbd5a",
   "metadata": {},
   "source": [
    "# Test data"
   ]
  },
  {
   "cell_type": "code",
   "execution_count": 2,
   "id": "2c5b67a1",
   "metadata": {},
   "outputs": [],
   "source": [
    "# Given data (time and substrate concentration)\n",
    "\n",
    "time_data = np.array([0, 1, 3, 10, 30, 60, 100])  # Time points\n",
    "substrate_data = np.array([1, 0.8, 0.7, 0.5, 0.12, 0.02, 0])  # Substrate concentration over time\n",
    "product_data1 = np.array([0, 0.20, 0.34, 0.44, 0.52, 0.57, 0.5])  # Concentration of product 1 over time\n",
    "product_data2 = np.array([0, 0.08, 0.12, 0.17, 0.21, 0.27, 0.3])  # Concentration of product 2 over time\n",
    "product_data3 = np.array([0, 0.02, 0.05, 0.08, 0.11, 0.13, 0.2])  # Concentration of product 3 over time"
   ]
  },
  {
   "cell_type": "markdown",
   "id": "36bad0c0",
   "metadata": {},
   "source": [
    "# Define functions"
   ]
  },
  {
   "cell_type": "code",
   "execution_count": 3,
   "id": "a83e55b8",
   "metadata": {},
   "outputs": [],
   "source": [
    "# Define exponential depletion function for substrate (initial DNA)\n",
    "def initial_dna_depletion(t, k_depletion):\n",
    "    return np.exp(-k_depletion * t)\n",
    "\n",
    "# Define exponential growth function for product formation \n",
    "def product_formation_system_1(t, k_formation1, k_formation2, C1):\n",
    "    C2 = 1 - C1\n",
    "    formation_product1 = C1 * (1 - np.exp(-k_formation1 * t))\n",
    "    formation_product2 = C2 * (1 - np.exp(-k_formation2 * t))\n",
    "    return formation_product1, formation_product2\n",
    "\n",
    "#-------------------------------------------------------------------------------------------------------------------------------\n",
    "\n",
    "# TWO PRODUCTS, NO TRIMMING:\n",
    "\n",
    "# Define the coupled ODE system for substrate depletion and product formation TWO PRODUCTS, NO TRIMMING\n",
    "def ode_system_1(t, y, k_depletion, k_formation1, k_formation2, C1):\n",
    "    S, P1, P2 = y\n",
    "    C2 = 1 - C1\n",
    "    dSdt = -k_depletion * S\n",
    "    dP1dt = k_formation1 * S * C1 * (1 - P2-S)\n",
    "    dP2dt = k_formation2 * S * C2 * (1 - P1-S)\n",
    "    return [dSdt, dP1dt, dP2dt]\n",
    "\n",
    "# Define the fitting function for least squares minimization TWO PRODUCTS, NO TRIMMING\n",
    "def fitting_function_1(params):\n",
    "    k_depletion, k_formation1, k_formation2, C1 = params\n",
    "    # params is a list or array containing the parameters that we want to optimize\n",
    "    y_predicted = solve_ivp(lambda t, y: ode_system_1(t, y, k_depletion, k_formation1, k_formation2, C1), [time_data[0],\n",
    "                                                    time_data[-1]], [substrate_data[0], product_data1[0], product_data2[0]],\n",
    "                                                    t_eval=time_data).y\n",
    "    \n",
    "    #The solve_ivp function from scipy.integrate is used to numerically solve the system of ordinary differential equations \n",
    "    #(ODEs) defined by the function ode_system.\n",
    "    \n",
    "    #We pass the parameters (k_depletion, k_formation1, k_formation2, and C1) along with the initial conditions\n",
    "    #([substrate_data[0], product_data1[0], product_data2[0]]) to the ode_system.\n",
    "    \n",
    "    #The time span for integration is defined by [time_data[0], time_data[-1]], where time_data contains the time points at \n",
    "    #which the data is observed.\n",
    "\n",
    "    #t_eval=time_data ensures that the solver evaluates the solution at the same time points where the data is available.\n",
    "\n",
    "    residuals_substrate = y_predicted[0] - substrate_data\n",
    "    residuals_product1 = y_predicted[1] - product_data1\n",
    "    residuals_product2 = y_predicted[2] - product_data2\n",
    "    return np.concatenate((residuals_substrate, residuals_product1, residuals_product2))\n",
    "\n",
    "#-------------------------------------------------------------------------------------------------------------------------------\n",
    "\n",
    "# TWO PRODUCTS WITH TRIMMING:\n",
    "\n",
    "# Define the coupled ODE system for substrate depletion and product formation TWO PRODUCTS WITH TRIMMING\n",
    "def ode_system_2(t, y, k_depletion, k_formation1, k_formation2, k_trimming, C1):\n",
    "    S, P1, P2 = y\n",
    "    C2 = 1 - C1\n",
    "    dSdt = -k_depletion * S\n",
    "    dP1dt = k_formation1 * S * C1 * (1 - P2) - k_trimming * P1 #k_trimming P1→P2\n",
    "    dP2dt = k_formation2 * S * C2 * (1 - P1) + k_trimming * P1\n",
    "    return [dSdt, dP1dt, dP2dt]\n",
    "\n",
    "# Define the fitting function for least squares minimization TWO PRODUCTS WITH TRIMMING\n",
    "def fitting_function_2(params):\n",
    "    k_depletion, k_formation1, k_formation2, k_trimming, C1 = params\n",
    "    y_predicted = solve_ivp(lambda t, y: ode_system_2(t, y, k_depletion, k_formation1, k_formation2, k_trimming, C1), \n",
    "                            [time_data[0],time_data[-1]], [substrate_data[0], product_data1[0], product_data2[0]],\n",
    "                            t_eval=time_data).y\n",
    "    residuals_substrate = y_predicted[0] - substrate_data\n",
    "    residuals_product1 = y_predicted[1] - product_data1\n",
    "    residuals_product2 = y_predicted[2] - product_data2\n",
    "    return np.concatenate((residuals_substrate, residuals_product1, residuals_product2))\n",
    "\n",
    "\n",
    "#-------------------------------------------------------------------------------------------------------------------------------\n",
    "\n",
    "\n",
    "# THREE PRODUCTS, NO TRIMMING:\n",
    "\n",
    "# Define exponential growth function for product formation \n",
    "def product_formation_system_2(t, k_formation1, k_formation2, k_formation3, C2, C3):\n",
    "    C1 = 1 - C2 - C3\n",
    "    formation_product1 = C1 * (1 - np.exp(-k_formation1 * t))\n",
    "    formation_product2 = C2 * (1 - np.exp(-k_formation2 * t))\n",
    "    formation_product3 = C3 * (1 - np.exp(-k_formation3 * t))\n",
    "    return formation_product1, formation_product2, formation_product3\n",
    "\n",
    "\n",
    "# Define the coupled ODE system for substrate depletion and product formation THREE PRODUCTS, NO TRIMMING\n",
    "def ode_system_3(t, y, k_depletion, k_formation1, k_formation2, k_formation3, C2, C3):\n",
    "    S, P1, P2, P3 = y\n",
    "    C1 = 1 - C2 - C3\n",
    "    dSdt = -k_depletion * S\n",
    "    dP1dt = k_formation1 * S * C1 * (1 - P2-P3)\n",
    "    dP2dt = k_formation2 * S * C2 * (1 - P1-P3)\n",
    "    dP3dt = k_formation2 * S * C3 * (1 - P1-P2)\n",
    "    return [dSdt, dP1dt, dP2dt]\n",
    "\n",
    "# Define the fitting function for least squares minimization THREE PRODUCTS, NO TRIMMING\n",
    "def fitting_function_3(params):\n",
    "    k_depletion, k_formation1, k_formation2, k_formation3, C2, C3 = params\n",
    "    y_predicted = solve_ivp(lambda t, y: ode_system_3(t, y, k_depletion, k_formation1, k_formation2, k_formation3, C2, C3),\n",
    "                            [time_data[0], time_data[-1]], [substrate_data[0], product_data1[0], product_data2[0], \n",
    "                            product_data3[0]], t_eval=time_data).y\n",
    "    residuals_substrate = y_predicted[0] - substrate_data\n",
    "    residuals_product1 = y_predicted[1] - product_data1\n",
    "    residuals_product2 = y_predicted[2] - product_data2\n",
    "    residuals_product3 = y_predicted[3] - product_data3\n",
    "    return np.concatenate((residuals_substrate, residuals_product1, residuals_product2, residuals_product3))\n",
    "\n",
    "\n",
    "# THREE PRODUCTS WITH TRIMMING:\n",
    "\n",
    "# Define the coupled ODE system for substrate depletion and product formation THREE PRODUCTS WITH TRIMMING\n",
    "def ode_system_4(t, y, k_depletion, k_formation1, k_formation2, k_formation3, k_trimming1, k_trimming2, k_trimming3, C2, C3):\n",
    "    S, P1, P2, P3 = y\n",
    "    C1 = 1 - C2 - C3 \n",
    "    dSdt = -k_depletion * S\n",
    "    dP1dt = k_formation1 * S * C1 * (1 - P2-P3) - k_trimming1 * P1 - k_trimming2 * P1\n",
    "    dP2dt = k_formation2 * S * C2 * (1 - P1-P3) - k_trimming3 * P2 + k_trimming1 * P2\n",
    "    dP3dt = k_formation2 * S * C3 * (1 - P1-P2) + k_trimming2 * P3 + k_trimming3 * P3\n",
    "    return [dSdt, dP1dt, dP2dt]\n",
    "\n",
    "# Define the fitting function for least squares minimization THREE PRODUCTS WITH TRIMMING\n",
    "def fitting_function_4(params):\n",
    "    k_depletion, k_formation1, k_formation2, k_formation3, k_trimming1, k_trimming2, k_trimming3, C2, C3  = params\n",
    "    y_predicted = solve_ivp(lambda t, y: ode_system_4(t, y, k_depletion, k_formation1, k_formation2, k_trimming1, k_trimming2,\n",
    "                                                      k_trimming3, C2, C3), \n",
    "                            [time_data[0],time_data[-1]], [substrate_data[0], product_data1[0], product_data2[0]],\n",
    "                            t_eval=time_data).y\n",
    "    residuals_substrate = y_predicted[0] - substrate_data\n",
    "    residuals_product1 = y_predicted[1] - product_data1\n",
    "    residuals_product2 = y_predicted[2] - product_data2\n",
    "    residuals_product3 = y_predicted[3] - product_data3\n",
    "    return np.concatenate((residuals_substrate, residuals_product1, residuals_product2, residuals_product3))\n",
    "\n",
    "#-------------------------------------------------------------------------------------------------------------------------------\n",
    "\n",
    "# Evalutation of the quality of the fit:\n",
    "\n",
    "def r_squared(y_true, y_pred):\n",
    "    mean_y = np.mean(y_true)\n",
    "    ss_total = np.sum((y_true - mean_y)**2)\n",
    "    ss_residual = np.sum((y_true - y_pred)**2)\n",
    "    return 1 - (ss_residual / ss_total)\n",
    "\n",
    "def sum_squared_residuals(y_true, y_pred):\n",
    "    return np.sum((y_true - y_pred)**2)"
   ]
  },
  {
   "cell_type": "markdown",
   "id": "67650341",
   "metadata": {},
   "source": [
    "# TWO PRODUCTS, NO TRIMMING"
   ]
  },
  {
   "cell_type": "markdown",
   "id": "8df877f0",
   "metadata": {},
   "source": [
    "# Perform fitting "
   ]
  },
  {
   "cell_type": "code",
   "execution_count": 6,
   "id": "1bd11281",
   "metadata": {},
   "outputs": [],
   "source": [
    "# Initial guess for parameters\n",
    "initial_guess1 = [0.1, 0.1, 0.1, 0.7]  # Example initial guess for the parameters\n",
    "\n",
    "# Fit the fitting function to the data using least squares\n",
    "result = least_squares(fitting_function_1, initial_guess1)\n",
    "\n",
    "# Extract the optimal parameters\n",
    "k_depletion_opt, k_formation1_opt1, k_formation2_opt1, fraction_opt = result.x"
   ]
  },
  {
   "cell_type": "markdown",
   "id": "7aefd7c5",
   "metadata": {},
   "source": [
    "# Plot the fitting "
   ]
  },
  {
   "cell_type": "code",
   "execution_count": 7,
   "id": "7850711b",
   "metadata": {},
   "outputs": [
    {
     "data": {
      "image/png": "[encoded data removed]",
      "text/plain": [
       "<Figure size 720x432 with 1 Axes>"
      ]
     },
     "metadata": {
      "needs_background": "light"
     },
     "output_type": "display_data"
    },
    {
     "name": "stdout",
     "output_type": "stream",
     "text": [
      "Optimal parameters:\n",
      "k_depletion: 0.11990617357582271\n",
      "k_formation1: 0.3181199335875835\n",
      "k_formation2: 0.2484474396719732\n",
      "fraction 1: 0.5510658346681139\n",
      "fraction 2: 0.4489341653318861\n"
     ]
    }
   ],
   "source": [
    "### ONE FRACTION PARAMETER\n",
    "\n",
    "x_values = np.linspace(0, 100, 100)\n",
    "\n",
    "# Generate points for the fitted curves for substrate and products\n",
    "substrate_fit = initial_dna_depletion(x_values, k_depletion_opt)\n",
    "product1_fit1, product2_fit1 = product_formation_system_1(x_values, k_formation1_opt1, k_formation2_opt1, fraction_opt)\n",
    "\n",
    "# Plotting the results\n",
    "plt.figure(figsize=(10, 6))\n",
    "\n",
    "# Plot the original data\n",
    "plt.scatter(time_data, substrate_data, label='Substrate Data', color='blue')\n",
    "plt.scatter(time_data, product_data1, label='Product 1 Data', color='green')\n",
    "plt.scatter(time_data, product_data2, label='Product 2 Data', color='red')\n",
    "\n",
    "# Plot the fitted curves\n",
    "plt.plot(x_values, substrate_fit, 'b-', label='Fitted Exponential (Substrate)')\n",
    "plt.plot(x_values, product1_fit1, 'g-', label='Product 1 Fitted Curve')\n",
    "plt.plot(x_values, product2_fit1, 'r-', label='Product 2 Fitted Curve')\n",
    "\n",
    "plt.xlabel('Time')\n",
    "plt.ylabel('Concentration')\n",
    "plt.title('Fitted Model')\n",
    "plt.legend()\n",
    "plt.show()\n",
    "\n",
    "# Print optimal parameters\n",
    "print(\"Optimal parameters:\")\n",
    "print(\"k_depletion:\", k_depletion_opt)\n",
    "print(\"k_formation1:\", k_formation1_opt1)\n",
    "print(\"k_formation2:\", k_formation2_opt1)\n",
    "print(\"fraction 1:\", fraction_opt)\n",
    "print(\"fraction 2:\", 1-fraction_opt)"
   ]
  },
  {
   "cell_type": "markdown",
   "id": "bb1de1c0",
   "metadata": {},
   "source": [
    "# Determine the quality of the fit "
   ]
  },
  {
   "cell_type": "code",
   "execution_count": 8,
   "id": "2e9decdc",
   "metadata": {},
   "outputs": [
    {
     "name": "stdout",
     "output_type": "stream",
     "text": [
      "R-squared (Substrate): 0.943291564638603\n",
      "R-squared (Product 1): 0.7671047536966233\n",
      "Sum of Squared Residuals (Substrate): 0.05593071967644072\n",
      "Sum of Squared Residuals (Product 1): 0.05844339852235878\n"
     ]
    }
   ],
   "source": [
    "# Calculate R-squared for substrate and products\n",
    "r_squared_substrate = r_squared(substrate_data, initial_dna_depletion(time_data, k_depletion_opt))\n",
    "r_squared_product1 = r_squared(product_data1, product_formation_system_1(time_data, k_formation1_opt1, k_formation2_opt1, \n",
    "                                                                        fraction_opt))\n",
    "\n",
    "# Calculate sum of squared residuals for substrate and products\n",
    "ssr_substrate = sum_squared_residuals(substrate_data, initial_dna_depletion(time_data, k_depletion_opt))\n",
    "ssr_product1 = sum_squared_residuals(product_data1, product_formation_system_1(time_data, k_formation1_opt1, k_formation2_opt1, \n",
    "                                                                        fraction_opt))\n",
    "\n",
    "print(\"R-squared (Substrate):\", r_squared_substrate)\n",
    "print(\"R-squared (Product 1):\", r_squared_product1)\n",
    "\n",
    "print(\"Sum of Squared Residuals (Substrate):\", ssr_substrate)\n",
    "print(\"Sum of Squared Residuals (Product 1):\", ssr_product1)\n"
   ]
  },
  {
   "cell_type": "markdown",
   "id": "839b12d0",
   "metadata": {},
   "source": [
    "# TWO PRODUCTS WITH TRIMMING"
   ]
  },
  {
   "cell_type": "markdown",
   "id": "30268a2e",
   "metadata": {},
   "source": [
    "# Perform fitting "
   ]
  },
  {
   "cell_type": "code",
   "execution_count": 9,
   "id": "7157cb5c",
   "metadata": {},
   "outputs": [],
   "source": [
    "# Initial guess for parameters\n",
    "initial_guess2 = [0.1, 0.1, 0.1, 0.1, 0.5]  # Example initial guess for the parameters\n",
    "\n",
    "# Fit the fitting function to the data using least squares\n",
    "result2 = least_squares(fitting_function_2, initial_guess2)\n",
    "\n",
    "# Extract the optimal parameters\n",
    "k_depletion_opt2, k_formation1_opt12, k_formation2_opt12, k_trimming_opt2, fraction_opt2 = result2.x"
   ]
  },
  {
   "cell_type": "markdown",
   "id": "2c9df35e",
   "metadata": {},
   "source": [
    "# Plot the fitting "
   ]
  },
  {
   "cell_type": "code",
   "execution_count": 10,
   "id": "fbec7162",
   "metadata": {},
   "outputs": [
    {
     "data": {
      "image/png": "[encoded data removed]",
      "text/plain": [
       "<Figure size 720x432 with 1 Axes>"
      ]
     },
     "metadata": {
      "needs_background": "light"
     },
     "output_type": "display_data"
    },
    {
     "name": "stdout",
     "output_type": "stream",
     "text": [
      "Optimal parameters:\n",
      "k_depletion: 0.09782991595030145\n",
      "k_formation1: 0.20552126500771195\n",
      "k_formation2: 0.046292064056901186\n",
      "fraction 1: 0.350391953260031\n",
      "fraction 2: 0.649608046739969\n"
     ]
    }
   ],
   "source": [
    "### ONE FRACTION PARAMETER\n",
    "\n",
    "x_values = np.linspace(0, 100, 100)\n",
    "\n",
    "# Generate points for the fitted curves for substrate and products\n",
    "substrate_fit2 = initial_dna_depletion(x_values, k_depletion_opt2)\n",
    "product1_fit2, product2_fit2 = product_formation_system_1(x_values, k_formation1_opt12, k_formation2_opt12, fraction_opt2)\n",
    "\n",
    "# Plotting the results\n",
    "plt.figure(figsize=(10, 6))\n",
    "\n",
    "# Plot the original data\n",
    "plt.scatter(time_data, substrate_data, label='Substrate Data', color='blue')\n",
    "plt.scatter(time_data, product_data1, label='Product 1 Data', color='green')\n",
    "plt.scatter(time_data, product_data2, label='Product 2 Data', color='red')\n",
    "\n",
    "# Plot the fitted curves\n",
    "plt.plot(x_values, substrate_fit2, 'b-', label='Fitted Exponential (Substrate)')\n",
    "plt.plot(x_values, product1_fit2, 'g-', label='Product 1 Fitted Curve')\n",
    "plt.plot(x_values, product2_fit2, 'r-', label='Product 2 Fitted Curve')\n",
    "\n",
    "plt.xlabel('Time')\n",
    "plt.ylabel('Concentration')\n",
    "plt.title('Fitted Model')\n",
    "plt.legend()\n",
    "plt.show()\n",
    "\n",
    "# Print optimal parameters\n",
    "print(\"Optimal parameters:\")\n",
    "print(\"k_depletion:\", k_depletion_opt2)\n",
    "print(\"k_formation1:\", k_formation1_opt12)\n",
    "print(\"k_formation2:\", k_formation2_opt12)\n",
    "print(\"fraction 1:\", fraction_opt2)\n",
    "print(\"fraction 2:\", 1-fraction_opt2)"
   ]
  },
  {
   "cell_type": "markdown",
   "id": "632a031f",
   "metadata": {},
   "source": [
    "# Determine the quality of the fit "
   ]
  },
  {
   "cell_type": "code",
   "execution_count": 11,
   "id": "758da05a",
   "metadata": {},
   "outputs": [
    {
     "name": "stdout",
     "output_type": "stream",
     "text": [
      "R-squared (Substrate): 0.9658864857329963\n",
      "R-squared (Product 1): -0.29597589316228823\n",
      "Sum of Squared Residuals (Substrate): 0.033645671785627655\n",
      "Sum of Squared Residuals (Product): 0.3252158934184108\n"
     ]
    }
   ],
   "source": [
    "# Calculate R-squared for substrate and products\n",
    "r_squared_substrate2 = r_squared(substrate_data, initial_dna_depletion(time_data, k_depletion_opt2))\n",
    "r_squared_product2 = r_squared(product_data1, product_formation_system_1(time_data, k_formation1_opt12, k_formation2_opt12, \n",
    "                                                                        fraction_opt2))\n",
    "\n",
    "# Calculate sum of squared residuals for substrate and products\n",
    "ssr_substrate2 = sum_squared_residuals(substrate_data, initial_dna_depletion(time_data, k_depletion_opt2))\n",
    "ssr_product2 = sum_squared_residuals(product_data1, product_formation_system_1(time_data, k_formation1_opt12, k_formation2_opt12, \n",
    "                                                                        fraction_opt2))\n",
    "\n",
    "print(\"R-squared (Substrate):\", r_squared_substrate2)\n",
    "print(\"R-squared (Product 1):\", r_squared_product2)\n",
    "\n",
    "print(\"Sum of Squared Residuals (Substrate):\", ssr_substrate2)\n",
    "print(\"Sum of Squared Residuals (Product):\", ssr_product2)\n"
   ]
  },
  {
   "cell_type": "markdown",
   "id": "14417ae2",
   "metadata": {},
   "source": [
    "# THREE PRODUCTS, NO TRIMMING:"
   ]
  },
  {
   "cell_type": "markdown",
   "id": "88b8bc34",
   "metadata": {},
   "source": [
    "# Perform fitting "
   ]
  },
  {
   "cell_type": "code",
   "execution_count": null,
   "id": "8109d912",
   "metadata": {},
   "outputs": [],
   "source": [
    "# Initial guess for parameters\n",
    "initial_guess3 = [0.1, 0.1, 0.1, 0.1, 0.5, 0.5]  # Example initial guess for the parameters\n",
    "\n",
    "# Fit the fitting function to the data using least squares\n",
    "result3 = least_squares(fitting_function_3, initial_guess3)\n",
    "\n",
    "# Extract the optimal parameters\n",
    "k_depletion_opt3, k_formation1_opt3, k_formation2_opt3, k_formation3_opt3, fraction1_opt3, fraction2_opt3 = result3.x"
   ]
  },
  {
   "cell_type": "code",
   "execution_count": null,
   "id": "2a0f13ac",
   "metadata": {},
   "outputs": [],
   "source": [
    "# THREE PRODUCTS, NO TRIMMING:\n",
    "\n",
    "# Define the coupled ODE system for substrate depletion and product formation THREE PRODUCTS, NO TRIMMING\n",
    "def ode_system_3(t, y, k_depletion, k_formation1, k_formation2, k_formation3, C1, C2, C3):\n",
    "    S, P1, P2, P3 = y\n",
    "    dSdt = -k_depletion * S\n",
    "    dP1dt = k_formation1 * S * C1 * (1 - P2 - P3 - S)\n",
    "    dP2dt = k_formation2 * S * C2 * (1 - P1 - P3 - S)\n",
    "    dP3dt = k_formation3 * S * C3 * (1 - P1 - P2 - S)\n",
    "    return [dSdt, dP1dt, dP2dt, dP3dt]\n",
    "\n",
    "# Define the fitting function for least squares minimization THREE PRODUCTS, NO TRIMMING\n",
    "def fitting_function_3(params):\n",
    "    k_depletion, k_formation1, k_formation2, k_formation3, C1, C2, C3 = params\n",
    "    # params is a list or array containing the parameters that we want to optimize\n",
    "    y_predicted = solve_ivp(lambda t, y: ode_system_1(t, y, k_depletion, k_formation1, k_formation2, k_formation3, C1, C2, C3), [time_data[0],\n",
    "                                                    time_data[-1]], [substrate_data[0], product_data1[0], product_data2[0], product_data3[0]],\n",
    "                                                    t_eval=time_data).y\n",
    "    \n",
    "    #The solve_ivp function from scipy.integrate is used to numerically solve the system of ordinary differential equations \n",
    "    #(ODEs) defined by the function ode_system.\n",
    "    \n",
    "    #We pass the parameters (k_depletion, k_formation1, k_formation2, and C1) along with the initial conditions\n",
    "    #([substrate_data[0], product_data1[0], product_data2[0], product_data3[0]]) to the ode_system.\n",
    "    \n",
    "    #The time span for integration is defined by [time_data[0], time_data[-1]], where time_data contains the time points at \n",
    "    #which the data is observed.\n",
    "\n",
    "    #t_eval=time_data ensures that the solver evaluates the solution at the same time points where the data is available.\n",
    "\n",
    "    residuals_substrate = y_predicted[0] - substrate_data\n",
    "    residuals_product1 = y_predicted[1] - product_data1\n",
    "    residuals_product2 = y_predicted[2] - product_data2\n",
    "    residuals_product3 = y_predicted[3] - product_data3\n",
    "    return np.concatenate((residuals_substrate, residuals_product1, residuals_product2, residuals_product3))\n"
   ]
  }
 ],
 "metadata": {
  "kernelspec": {
   "display_name": "Python 3 (ipykernel)",
   "language": "python",
   "name": "python3"
  },
  "language_info": {
   "codemirror_mode": {
    "name": "ipython",
    "version": 3
   },
   "file_extension": ".py",
   "mimetype": "text/x-python",
   "name": "python",
   "nbconvert_exporter": "python",
   "pygments_lexer": "ipython3",
   "version": "3.9.7"
  }
 },
 "nbformat": 4,
 "nbformat_minor": 5
}

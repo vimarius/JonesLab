{
 "cells": [
  {
   "cell_type": "markdown",
   "id": "33f6a8a4",
   "metadata": {},
   "source": [
    "# Import required libraries"
   ]
  },
  {
   "cell_type": "code",
   "execution_count": null,
   "id": "630d508b",
   "metadata": {},
   "outputs": [],
   "source": [
    "import ..."
   ]
  },
  {
   "cell_type": "markdown",
   "id": "3c71209d",
   "metadata": {},
   "source": [
    "# Upload data for analysis"
   ]
  },
  {
   "cell_type": "code",
   "execution_count": null,
   "id": "50cd9978",
   "metadata": {},
   "outputs": [],
   "source": [
    "#1) \n",
    "\n",
    "#input: \n",
    "\n",
    "# x = excel_file\n",
    "\n",
    "def upload_data(x):\n",
    "\n",
    "#2) \n",
    "\n",
    "#output:\n",
    "\n",
    "    return data #a dataframe of distance and grey values.\n",
    "\n",
    "\n",
    "#3) \n",
    "\n",
    "#actions:\n",
    "def upload_data(x):\n",
    "    #read excel file x\n",
    "    \n",
    "    #add \"_cy3\" or \"_cy5\" extention to the column name to indicate from which channel is the data\n",
    "    \n",
    "    #combine both files into one dataframe (data)\n",
    "    \n",
    "    return data   "
   ]
  },
  {
   "cell_type": "markdown",
   "id": "9aad44f1",
   "metadata": {},
   "source": [
    "# Remove background (adjust baseline)"
   ]
  },
  {
   "cell_type": "code",
   "execution_count": null,
   "id": "b8757e38",
   "metadata": {},
   "outputs": [],
   "source": [
    "#1) \n",
    "\n",
    "#input: \n",
    "\n",
    "# x = list(all_grey_values_columns_in_data)\n",
    "\n",
    "def remove_background(x):\n",
    "\n",
    "#2) \n",
    "\n",
    "#output:\n",
    "\n",
    "    return data #with additional columns for grey values with adjusted baseline\n",
    "\n",
    "\n",
    "#3) \n",
    "\n",
    "#actions:\n",
    "def remove_background(x):\n",
    "    #take the grey_value column values from dataframe data\n",
    "    \n",
    "    #apply the background adjustment algorithm to each column and get the baseline\n",
    "    \n",
    "    #remove the baseline from each column and add the new values to the same dataframe\n",
    "    \n",
    "    return data "
   ]
  },
  {
   "cell_type": "markdown",
   "id": "1296bed2",
   "metadata": {},
   "source": [
    "# Normalize the distance in each lane"
   ]
  },
  {
   "cell_type": "code",
   "execution_count": null,
   "id": "dc245ed1",
   "metadata": {},
   "outputs": [],
   "source": [
    "#1) \n",
    "\n",
    "#input: \n",
    "\n",
    "# x = list(all_grey_values_with_adjusted_baseline_columns_in_data)\n",
    "\n",
    "def normalize_distance(x):\n",
    "\n",
    "#2) \n",
    "\n",
    "#output:\n",
    "\n",
    "    return data #with additional columns for normalized distance\n",
    "\n",
    "#3) \n",
    "\n",
    "#actions:\n",
    "def normalize_distance(x):\n",
    "    #find peak values in each lane\n",
    "    \n",
    "    #select first and last peak. Normalize from 0 to 1 between these peaks\n",
    "    \n",
    "    #add the normalized values to the same dataframe\n",
    "    \n",
    "    return data "
   ]
  },
  {
   "cell_type": "markdown",
   "id": "c5f9c750",
   "metadata": {},
   "source": [
    "# Convert distance in cm to distance in nt"
   ]
  },
  {
   "cell_type": "code",
   "execution_count": null,
   "id": "5bd58796",
   "metadata": {},
   "outputs": [],
   "source": [
    "#1) \n",
    "\n",
    "#input: \n",
    "\n",
    "# x = normalized ladder lane distance\n",
    "# y = adjusted ladder lane grey values\n",
    "\n",
    "def convert_distance(x, y):\n",
    "\n",
    "#2) \n",
    "\n",
    "#output:\n",
    "\n",
    "    return data #with additional column for converted distance\n",
    "\n",
    "#3) \n",
    "\n",
    "#actions:\n",
    "def convert_distance(x, y):\n",
    "    #find peak values in ladder lane\n",
    "    \n",
    "    #fit an exponential function to the peak values\n",
    "    \n",
    "    #convert the distance to nucleotides based on the fitted function, add to dataframe data\n",
    "    \n",
    "    return data"
   ]
  },
  {
   "cell_type": "markdown",
   "id": "36be241f",
   "metadata": {},
   "source": [
    "# Find total area under the curve"
   ]
  },
  {
   "cell_type": "code",
   "execution_count": null,
   "id": "caa99085",
   "metadata": {},
   "outputs": [],
   "source": [
    "#1) \n",
    "\n",
    "#input: \n",
    "\n",
    "# x = list(adjusted_grey_values)\n",
    "\n",
    "def total_area(x):\n",
    "\n",
    "#2) \n",
    "\n",
    "#output:\n",
    "\n",
    "    return total_area_list #a list of total signal area of each lane\n",
    "\n",
    "#3) \n",
    "\n",
    "#actions:\n",
    "def total_area(x):\n",
    "    #find peak values in ladder lane\n",
    "    \n",
    "    #count area under the curve for all peaks except the marker peaks (usually first and last)\n",
    "    \n",
    "    #add all values to a list\n",
    "    \n",
    "    return total_area_list"
   ]
  },
  {
   "cell_type": "markdown",
   "id": "d2995c55",
   "metadata": {},
   "source": [
    "# Find initial DNA area under the curve"
   ]
  },
  {
   "cell_type": "code",
   "execution_count": null,
   "id": "165b0450",
   "metadata": {},
   "outputs": [],
   "source": [
    "#1) \n",
    "\n",
    "#input: \n",
    "\n",
    "# x = list(adjusted_grey_values)\n",
    "# y = time_points\n",
    "\n",
    "def initial_DNA_area(x,y):\n",
    "\n",
    "#2) \n",
    "\n",
    "#output:\n",
    "\n",
    "    return fraction_of_total_data #a dataframe of time_points and initial dna fractions at those points\n",
    "\n",
    "#3) \n",
    "\n",
    "#actions:\n",
    "def total_area(x):\n",
    "    #find the region of the initial DNA in the lane of timepoint 0 based on ladder\n",
    "    \n",
    "    #calclate area under the curve in the selected region in all lanes\n",
    "    \n",
    "    #normalize the fracions of initial DNA areas by dividing them from the total area of each lane. Add to the dataframe\n",
    "    \n",
    "    return fraction_of_total_data"
   ]
  },
  {
   "cell_type": "markdown",
   "id": "88b30b2a",
   "metadata": {},
   "source": [
    "# Find cut DNA 1 and 2 area under the curve"
   ]
  },
  {
   "cell_type": "code",
   "execution_count": null,
   "id": "bfa987b8",
   "metadata": {},
   "outputs": [],
   "source": [
    "#1) \n",
    "\n",
    "#input: \n",
    "\n",
    "# x = list(adjusted_grey_values)\n",
    "\n",
    "def cut_DNA_area(x):\n",
    "\n",
    "#2) \n",
    "\n",
    "#output:\n",
    "\n",
    "    return fraction_of_total_data #a dataframe of time_points, initial dna fractions and cut DNA fractions\n",
    "\n",
    "#3) \n",
    "\n",
    "#actions:\n",
    "def cut_DNA_area(x):\n",
    "    #find the region of the cut DNAs in the lanes \n",
    "    \n",
    "    #apply Gaussian mixture model to determine maximum possible distribution in the region\n",
    "    \n",
    "    #calclate area under the curve for each distribution\n",
    "    \n",
    "    #normalize the fracions of cut DNA areas by dividing them from the total area of each lane. Add to the dataframe\n",
    "    \n",
    "    return fraction_of_total_data"
   ]
  },
  {
   "cell_type": "markdown",
   "id": "f01cb54b",
   "metadata": {},
   "source": [
    "# Fit initial DNA  to an exponential to get a constant"
   ]
  },
  {
   "cell_type": "code",
   "execution_count": null,
   "id": "f153dea5",
   "metadata": {},
   "outputs": [],
   "source": [
    "#1) \n",
    "\n",
    "#input: \n",
    "\n",
    "# x = dataframe column with initial DNA fractions\n",
    "\n",
    "def initial_DNA_fit(x):\n",
    "\n",
    "#2) \n",
    "\n",
    "#output:\n",
    "\n",
    "    return initial_dna_constant\n",
    "\n",
    "#3) \n",
    "\n",
    "#actions:\n",
    "def initial_DNA_fit(x):\n",
    "        \n",
    "    #apply exponential fitting to the fractions\n",
    "    \n",
    "    #get the constant\n",
    "    \n",
    "    return initial_dna_constant"
   ]
  },
  {
   "cell_type": "markdown",
   "id": "5cc30fb4",
   "metadata": {},
   "source": [
    "# Fit cut DNAs to an exponential to get a constant"
   ]
  },
  {
   "cell_type": "code",
   "execution_count": null,
   "id": "2db1c015",
   "metadata": {},
   "outputs": [],
   "source": [
    "#1) \n",
    "\n",
    "#input: \n",
    "\n",
    "# x = dataframe columns with cut DNA fractions\n",
    "\n",
    "def cut_DNA_fit(x):\n",
    "\n",
    "#2) \n",
    "\n",
    "#output:\n",
    "\n",
    "    return cut_dna_constants\n",
    "\n",
    "#3) \n",
    "\n",
    "#actions:\n",
    "def initial_DNA_fit(x):\n",
    "        \n",
    "    #apply exponential fitting to the fractions\n",
    "    \n",
    "    #get the constant\n",
    "    \n",
    "    return cut_dna_constants"
   ]
  },
  {
   "cell_type": "markdown",
   "id": "73d5b89e",
   "metadata": {},
   "source": [
    "# Fit the three constants to get a system of equations"
   ]
  },
  {
   "cell_type": "code",
   "execution_count": null,
   "id": "5f7f14f4",
   "metadata": {},
   "outputs": [],
   "source": [
    "#1) \n",
    "\n",
    "#input: \n",
    "\n",
    "# x = list of constants\n",
    "\n",
    "def constant_fit(x):\n",
    "\n",
    "#2) \n",
    "\n",
    "#output:\n",
    "\n",
    "    return system_of_equations_constant\n",
    "\n",
    "#3) \n",
    "\n",
    "#actions:\n",
    "def constant_fit(x):\n",
    "        \n",
    "    #construct he system of equations\n",
    "    \n",
    "    #check the relations between the constants\n",
    "    \n",
    "    return system_of_equations_constant"
   ]
  }
 ],
 "metadata": {
  "kernelspec": {
   "display_name": "Python 3 (ipykernel)",
   "language": "python",
   "name": "python3"
  },
  "language_info": {
   "codemirror_mode": {
    "name": "ipython",
    "version": 3
   },
   "file_extension": ".py",
   "mimetype": "text/x-python",
   "name": "python",
   "nbconvert_exporter": "python",
   "pygments_lexer": "ipython3",
   "version": "3.9.7"
  }
 },
 "nbformat": 4,
 "nbformat_minor": 5
}

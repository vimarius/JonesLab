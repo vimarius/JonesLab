{
 "cells": [
  {
   "cell_type": "markdown",
   "id": "d7d6eab6",
   "metadata": {},
   "source": [
    "1. Importing packages and libraries."
   ]
  },
  {
   "cell_type": "code",
   "execution_count": null,
   "id": "da1b5dc3",
   "metadata": {},
   "outputs": [],
   "source": [
    "import numpy as np\n",
    "import scipy\n",
    "import pandas as pd\n",
    "import math\n",
    "import matplotlib.pyplot as plt\n",
    "from scipy.signal import find_peaks, argrelextrema, peak_widths\n",
    "from scipy.optimize import curve_fit\n",
    "from pybaselines import Baseline\n",
    "from sklearn.metrics import auc\n",
    "import cv2\n",
    "from scipy.stats import norm\n",
    "from lmfit import Parameters, Minimizer\n",
    "from lmfit.models import LorentzianModel,ConstantModel, GaussianModel"
   ]
  },
  {
   "cell_type": "markdown",
   "id": "b4b7288e",
   "metadata": {},
   "source": [
    "2. Preparing an artificial dataset with known means and distributions."
   ]
  },
  {
   "cell_type": "code",
   "execution_count": null,
   "id": "bf6b90a2",
   "metadata": {},
   "outputs": [],
   "source": [
    "x1 = np.arange(133, 150, 0.1) #141\n",
    "y1 = norm.pdf(x1, 141, 1.5)* 14000\n",
    "\n",
    "x2 = np.arange(107, 125, 0.1) #116\n",
    "y2 = norm.pdf(x2, 116, 2)* 14000\n",
    "\n",
    "x3 = np.arange(60, 74, 0.1) #66\n",
    "y3 = norm.pdf(x3, 66, 1.5)* 18000\n",
    "\n",
    "x4 = np.arange(42, 56, 0.1) #50\n",
    "y4 = norm.pdf(x4, 50, 1.5)* 16000\n",
    "\n",
    "x5 = np.arange(20, 36, 0.1) #28\n",
    "y5 = norm.pdf(x5, 28, 2)* 15000\n",
    "\n",
    "x_fill1 = np.arange(36, 42, 0.1)\n",
    "y_fill1 = x_fill1*0\n",
    "\n",
    "x_fill2 = np.arange(74, 107, 0.1)\n",
    "y_fill2 = x_fill2*0\n",
    "\n",
    "x_fill3 = np.arange(125, 133, 0.1)\n",
    "y_fill3 = x_fill3*0\n",
    "\n",
    "x_fill4 = np.arange(56, 60, 0.1)\n",
    "y_fill4 = x_fill4*0"
   ]
  },
  {
   "cell_type": "code",
   "execution_count": null,
   "id": "184a0dd1",
   "metadata": {},
   "outputs": [],
   "source": [
    "plt.figure(figsize=(15,6))\n",
    "plt.plot(x1, y1, color = 'red')\n",
    "plt.plot(x2, y2, color = 'blue')\n",
    "plt.plot(x3, y3, color = 'gold')\n",
    "plt.plot(x4, y4, color = 'green')\n",
    "plt.plot(x5, y5, color = 'orange')\n",
    "plt.plot(x_fill1, y_fill1, color = 'black')\n",
    "plt.plot(x_fill2, y_fill2, color = 'black')\n",
    "plt.plot(x_fill3, y_fill3, color = 'black')\n",
    "plt.plot(x_fill4, y_fill4, color = 'black')"
   ]
  },
  {
   "cell_type": "code",
   "execution_count": null,
   "id": "92ae53e9",
   "metadata": {},
   "outputs": [],
   "source": [
    "x_data = pd.DataFrame(np.arange(20, 150, 0.1), columns=[\"Size in nt\"])\n",
    "\n",
    "y_list = y5.tolist()+y_fill1.tolist()+y4.tolist()+y_fill4.tolist()+y3.tolist()+y_fill2.tolist()+y2.tolist()+y_fill3.tolist()+y1.tolist()\n",
    "y_data = pd.DataFrame(y_list, columns=[\"Intensity Values\"])\n",
    "\n",
    "xy_data = pd.concat([x_data, y_data], axis=1)\n",
    "xy_data"
   ]
  },
  {
   "cell_type": "code",
   "execution_count": null,
   "id": "73e705e9",
   "metadata": {},
   "outputs": [],
   "source": [
    "plt.figure(figsize=(15,6))\n",
    "plot = plt.plot(xy_data[\"Size in nt\"], xy_data[\"Intensity Values\"])\n",
    "ax = plt.gca().invert_xaxis()\n",
    "plt.xlabel(\"Size in nt\")\n",
    "plt.ylabel(\"Intensity Values\")\n",
    "plt.show()"
   ]
  },
  {
   "cell_type": "markdown",
   "id": "b20d06f4",
   "metadata": {},
   "source": [
    "3. Finding the peak values and locations."
   ]
  },
  {
   "cell_type": "code",
   "execution_count": null,
   "id": "7974b73b",
   "metadata": {},
   "outputs": [],
   "source": [
    "peaks_list = []\n",
    "peaks, values = find_peaks(xy_data[\"Intensity Values\"], height=1000)\n",
    "peak_values = xy_data.iloc[peaks, 0]\n",
    "peak_values = list(peak_values)\n",
    "peak_data = (peak_values)\n",
    "peaks_list.append(peak_data)"
   ]
  },
  {
   "cell_type": "code",
   "execution_count": null,
   "id": "4df5c78f",
   "metadata": {},
   "outputs": [],
   "source": [
    "plt.figure(figsize=(15,6))\n",
    "plot = plt.plot(xy_data[\"Size in nt\"], xy_data[\"Intensity Values\"])\n",
    "plt.scatter(peak_values, values.values(), color='red')\n",
    "ax = plt.gca().invert_xaxis()\n",
    "plt.xlabel(\"Size in nt\")\n",
    "plt.ylabel(\"Grey Values\")\n",
    "plt.show()"
   ]
  },
  {
   "cell_type": "code",
   "execution_count": null,
   "id": "0308130d",
   "metadata": {},
   "outputs": [],
   "source": [
    "widths, width_heights, left_ips, right_ips = peak_widths(xy_data[\"Intensity Values\"], peaks, rel_height=1)"
   ]
  },
  {
   "cell_type": "code",
   "execution_count": null,
   "id": "c0c2fab6",
   "metadata": {},
   "outputs": [],
   "source": [
    "from scipy.interpolate import interp1d\n",
    "\n",
    "def index_to_xdata(xdata, indices):\n",
    "    \"interpolate the values from signal.peak_widths to xdata\"\n",
    "    ind = np.arange(len(xdata))\n",
    "    f = interp1d(ind,xdata)\n",
    "    return f(indices)\n",
    "\n",
    "widths1 = index_to_xdata(xy_data[\"Size in nt\"], widths)\n",
    "left_ips1 = index_to_xdata(xy_data[\"Size in nt\"], left_ips)\n",
    "right_ips1 = index_to_xdata(xy_data[\"Size in nt\"], right_ips)"
   ]
  },
  {
   "cell_type": "code",
   "execution_count": null,
   "id": "2c310953",
   "metadata": {
    "scrolled": false
   },
   "outputs": [],
   "source": [
    "plt.figure(figsize=(15,6))\n",
    "plot = plt.plot(xy_data[\"Size in nt\"], xy_data[\"Intensity Values\"])\n",
    "plt.scatter(peak_values, values.values(), color='red')\n",
    "plt.hlines(width_heights, left_ips1, right_ips1, color='r')\n",
    "ax = plt.gca().invert_xaxis()\n",
    "plt.xlabel(\"Size in nt\")\n",
    "plt.ylabel(\"Grey Values\")\n",
    "plt.show()"
   ]
  },
  {
   "cell_type": "markdown",
   "id": "78d238d7",
   "metadata": {},
   "source": [
    "4. Gaussian fitting. INDEPENDENT"
   ]
  },
  {
   "cell_type": "code",
   "execution_count": null,
   "id": "7c1a90cc",
   "metadata": {},
   "outputs": [],
   "source": [
    "left_ips = list(left_ips)\n",
    "right_ips = list(right_ips)\n",
    "for i, n in enumerate(left_ips):\n",
    "    left_ips[i] = int(n)\n",
    "    \n",
    "for i, n in enumerate(right_ips):\n",
    "    right_ips[i] = int(n)\n"
   ]
  },
  {
   "cell_type": "code",
   "execution_count": null,
   "id": "fbae9318",
   "metadata": {},
   "outputs": [],
   "source": [
    "values_list = list(values.values())\n",
    "values_list_each=[]\n",
    "\n",
    "for i in values_list:\n",
    "    for j in i:\n",
    "        values_list_each.append(j)"
   ]
  },
  {
   "cell_type": "code",
   "execution_count": null,
   "id": "2f8738c1",
   "metadata": {},
   "outputs": [],
   "source": [
    "# Initiating the model for all possible positions with sd with Gaussian\n",
    "\n",
    "model=ConstantModel()\n",
    "params=model.make_params()"
   ]
  },
  {
   "cell_type": "code",
   "execution_count": null,
   "id": "ac9e0929",
   "metadata": {},
   "outputs": [],
   "source": [
    "# Fitting the data based on the Gaussian model\n",
    "\n",
    "f1 = GaussianModel(prefix='f1_')\n",
    "f2 = GaussianModel(prefix='f2_') \n",
    "f3 = GaussianModel(prefix='f3_') \n",
    "\n",
    "\n",
    "# Making guesses\n",
    "p1=f1.make_params()\n",
    "p1['f1_center'].set(peak_data[1],min=left_ips1[1], max=right_ips1[1]) #first parameter is the mean, or the peak location on x axis, then where the peak begins and ends\n",
    "p1['f1_amplitude'].set(values_list_each[1],min=0) #the height of the peak, the point on the y axis where the mean is located. \n",
    "#p1['f1_sigma'].set(sd)\n",
    "\n",
    "p2=f2.make_params()\n",
    "p2['f2_center'].set(peak_data[2],min=left_ips1[2], max=right_ips1[2])\n",
    "p2['f2_amplitude'].set(values_list_each[2],min=0)\n",
    "#p2['f2_sigma'].set(sd)\n",
    "\n",
    "p3=f3.make_params()\n",
    "p3['f3_center'].set(peak_data[3],min=left_ips1[3], max=right_ips1[3])\n",
    "p3['f3_amplitude'].set(values_list_each[3],min=0)\n",
    "#p3['f3_sigma'].set(sd)"
   ]
  },
  {
   "cell_type": "code",
   "execution_count": null,
   "id": "79f605d5",
   "metadata": {},
   "outputs": [],
   "source": [
    "# Making a compound model of all possible variations\n",
    "\n",
    "model1 = model+f1\n",
    "model2 = model+f2\n",
    "model3 = model+f3\n",
    "params.update(p1)\n",
    "params.update(p2)\n",
    "params.update(p3)"
   ]
  },
  {
   "cell_type": "code",
   "execution_count": null,
   "id": "ab8df411",
   "metadata": {},
   "outputs": [],
   "source": [
    "model1_y = xy_data[\"Intensity Values\"]\n",
    "model1_y = model1_y[left_ips[1]:right_ips[1]]\n",
    "\n",
    "model1_x = xy_data[\"Size in nt\"]\n",
    "model1_x = model1_x[left_ips[1]:right_ips[1]]\n",
    "\n",
    "model2_y = xy_data[\"Intensity Values\"]\n",
    "model2_y = model2_y[left_ips[2]:right_ips[2]]\n",
    "\n",
    "model2_x = xy_data[\"Size in nt\"]\n",
    "model2_x = model2_x[left_ips[2]:right_ips[2]]\n",
    "\n",
    "model3_y = xy_data[\"Intensity Values\"]\n",
    "model3_y = model3_y[left_ips[3]:right_ips[3]]\n",
    "\n",
    "model3_x = xy_data[\"Size in nt\"]\n",
    "model3_x = model3_x[left_ips[3]:right_ips[3]]\n",
    "\n",
    "model_all_x = xy_data[\"Size in nt\"]\n",
    "model_all_x = model_all_x[left_ips[1]:right_ips[3]]\n",
    "\n",
    "model_all_y = xy_data[\"Size in nt\"]\n",
    "model_all_y = model_all_y[left_ips[1]:right_ips[3]]"
   ]
  },
  {
   "cell_type": "code",
   "execution_count": null,
   "id": "943d0fb3",
   "metadata": {
    "scrolled": false
   },
   "outputs": [],
   "source": [
    "xy_data[\"Size in nt\"], xy_data[\"Intensity Values\"]\n",
    "result1 = model1.fit(data=model1_y, params = params, x = model1_x ) #xy_data[\"Intensity Values\"], xy_data[\"Size in nt\"]\n",
    "comps1 = result1.eval_components()\n",
    "\n",
    "result2 = model2.fit(data=model2_y, params = params, x = model2_x ) #xy_data[\"Intensity Values\"], xy_data[\"Size in nt\"]\n",
    "comps2 = result2.eval_components()\n",
    "\n",
    "result3 = model3.fit(data=model3_y, params = params, x = model3_x ) #xy_data[\"Intensity Values\"], xy_data[\"Size in nt\"]\n",
    "comps3 = result3.eval_components()\n",
    "\n",
    "plt.figure(figsize=(15, 8))\n",
    "plt.plot(xy_data[\"Size in nt\"], xy_data[\"Intensity Values\"],  label='Initial data', linewidth = 2.5)\n",
    "\n",
    "# Plotting each peak (component)\n",
    "for name, comp in comps1.items():\n",
    "    if name == \"constant\":\n",
    "        continue\n",
    "    else:\n",
    "        #continue\n",
    "        plt.plot(model1_x,comp, '--', label=name, linewidth = 2.5) #xy_data[\"Size in nt\"]\n",
    "        \n",
    "# Plotting each peak (component)\n",
    "for name, comp in comps2.items():\n",
    "    if name == \"constant\":\n",
    "        continue\n",
    "    else:\n",
    "        #continue\n",
    "        plt.plot(model2_x,comp, '--', label=name, linewidth = 2.5) #xy_data[\"Size in nt\"]\n",
    "        \n",
    "# Plotting each peak (component)\n",
    "for name, comp in comps3.items():\n",
    "    if name == \"constant\":\n",
    "        continue\n",
    "    else:\n",
    "        #continue\n",
    "        plt.plot(model3_x,comp, '--', label=name, linewidth = 2.5) #xy_data[\"Size in nt\"]                 \n",
    "        \n",
    "#ax = plt.gca().invert_xaxis()\n",
    "plt.xlabel(\"Nucleotides\", fontsize = 15)\n",
    "plt.ylabel(\"Intensity Values\", fontsize = 15)\n",
    "plt.legend(fontsize = 15)\n",
    "plt.show()"
   ]
  },
  {
   "cell_type": "code",
   "execution_count": null,
   "id": "8fbfa127",
   "metadata": {},
   "outputs": [],
   "source": [
    "model_all = model+f1+f2+f3"
   ]
  },
  {
   "cell_type": "code",
   "execution_count": null,
   "id": "a688c3be",
   "metadata": {},
   "outputs": [],
   "source": [
    "model_all1 = f1+f2+f3\n",
    "params.update(p1)\n",
    "params.update(p2)\n",
    "params.update(p3)"
   ]
  },
  {
   "cell_type": "code",
   "execution_count": null,
   "id": "c9384ced",
   "metadata": {},
   "outputs": [],
   "source": [
    "# Dependent\n",
    "xy_data[\"Size in nt\"], xy_data[\"Intensity Values\"]\n",
    "result = model_all.fit(data=xy_data[\"Intensity Values\"], params = params, x = xy_data[\"Size in nt\"] ) #xy_data[\"Intensity Values\"], xy_data[\"Size in nt\"]\n",
    "comps = result.eval_components()\n",
    "\n",
    "plt.figure(figsize=(15, 8))\n",
    "plt.plot(xy_data[\"Size in nt\"], xy_data[\"Intensity Values\"],  label='Initial data', linewidth = 2.5)\n",
    "\n",
    "# Plotting each peak (component)\n",
    "for name, comp in comps.items():\n",
    "    if name == \"constant\":\n",
    "        continue\n",
    "    else:\n",
    "        #continue\n",
    "        plt.plot(xy_data[\"Size in nt\"],comp, '--', label=name, linewidth = 2.5) #xy_data[\"Size in nt\"]                 \n",
    "        \n",
    "#ax = plt.gca().invert_xaxis()\n",
    "plt.xlabel(\"Nucleotides\", fontsize = 15)\n",
    "plt.ylabel(\"Intensity Values\", fontsize = 15)\n",
    "plt.legend(fontsize = 15)\n",
    "plt.show()"
   ]
  },
  {
   "cell_type": "markdown",
   "id": "cdfc725a",
   "metadata": {},
   "source": [
    "2. Selecting intact DNA area."
   ]
  },
  {
   "cell_type": "code",
   "execution_count": null,
   "id": "9e993c82",
   "metadata": {},
   "outputs": [],
   "source": [
    "x_data = xy_data[\"Size in nt\"]\n",
    "y_data = xy_data[\"Intensity Values\"]\n",
    "\n",
    "\n",
    "intact_dna_area = auc(x_data[left_ips[1]:right_ips[1]], y_data[left_ips[1]:right_ips[1]])"
   ]
  },
  {
   "cell_type": "code",
   "execution_count": null,
   "id": "2010cfc9",
   "metadata": {},
   "outputs": [],
   "source": [
    "intact_dna_area"
   ]
  },
  {
   "cell_type": "markdown",
   "id": "e0f5832b",
   "metadata": {},
   "source": [
    "3. Selecting cut DNA I area."
   ]
  },
  {
   "cell_type": "code",
   "execution_count": null,
   "id": "49ece63a",
   "metadata": {},
   "outputs": [],
   "source": [
    "cut_dna_i_area = auc(x_data[left_ips[2]:right_ips[2]], y_data[left_ips[2]:right_ips[2]])"
   ]
  },
  {
   "cell_type": "code",
   "execution_count": null,
   "id": "36c0acac",
   "metadata": {},
   "outputs": [],
   "source": [
    "cut_dna_i_area"
   ]
  },
  {
   "cell_type": "markdown",
   "id": "cc61d11e",
   "metadata": {},
   "source": [
    "4. Selecting cut DNA II area."
   ]
  },
  {
   "cell_type": "code",
   "execution_count": null,
   "id": "cc639326",
   "metadata": {},
   "outputs": [],
   "source": [
    "cut_dna_ii_area = auc(x_data[left_ips[3]:right_ips[3]], y_data[left_ips[3]:right_ips[3]])"
   ]
  },
  {
   "cell_type": "code",
   "execution_count": null,
   "id": "2d75a5cb",
   "metadata": {},
   "outputs": [],
   "source": [
    "cut_dna_ii_area"
   ]
  },
  {
   "cell_type": "code",
   "execution_count": null,
   "id": "b7919203",
   "metadata": {},
   "outputs": [],
   "source": [
    "plt.figure(figsize=(15,6))\n",
    "plot = plt.plot(xy_data[\"Size in nt\"], xy_data[\"Intensity Values\"])\n",
    "plt.fill_between(x_data[left_ips[1]:right_ips[1]], y_data[left_ips[1]:right_ips[1]], color='gold', alpha=0.3)\n",
    "plt.fill_between(x_data[left_ips[2]:right_ips[2]], y_data[left_ips[2]:right_ips[2]], color='green', alpha=0.3)\n",
    "plt.fill_between(x_data[left_ips[3]:right_ips[3]], y_data[left_ips[3]:right_ips[3]], color='blue', alpha=0.3)\n",
    "ax = plt.gca().invert_xaxis()\n",
    "plt.xlabel(\"Size in nt\")\n",
    "plt.ylabel(\"Grey Values\")\n",
    "plt.show()"
   ]
  },
  {
   "cell_type": "markdown",
   "id": "5902742e",
   "metadata": {},
   "source": [
    "5. Normalizing the each area with the total area."
   ]
  },
  {
   "cell_type": "code",
   "execution_count": null,
   "id": "30e30866",
   "metadata": {},
   "outputs": [],
   "source": [
    "total_area = intact_dna_area+cut_dna_i_area+cut_dna_ii_area\n",
    "total_area = total_area/2\n",
    "total_area"
   ]
  },
  {
   "cell_type": "code",
   "execution_count": null,
   "id": "9bdfabb3",
   "metadata": {},
   "outputs": [],
   "source": [
    "intact_norm_list = []\n",
    "intact_norm = intact_dna_area/total_area\n",
    "intact_norm_list.append(intact_norm)\n",
    "intact_norm_list"
   ]
  },
  {
   "cell_type": "code",
   "execution_count": null,
   "id": "c2689410",
   "metadata": {},
   "outputs": [],
   "source": [
    "cut_dna_i_norm_list = []\n",
    "cut_dna_i_norm = cut_dna_i_area/total_area\n",
    "cut_dna_i_norm_list.append(cut_dna_i_norm)\n",
    "cut_dna_i_norm_list"
   ]
  },
  {
   "cell_type": "code",
   "execution_count": null,
   "id": "b5c8ddbe",
   "metadata": {},
   "outputs": [],
   "source": [
    "cut_dna_ii_norm_list = []\n",
    "cut_dna_ii_norm = cut_dna_ii_area/total_area\n",
    "cut_dna_ii_norm_list.append(cut_dna_ii_norm)\n",
    "cut_dna_ii_norm_list"
   ]
  },
  {
   "cell_type": "code",
   "execution_count": null,
   "id": "684a1ee0",
   "metadata": {},
   "outputs": [],
   "source": [
    "#auc_percent_substrate_list[-1] = 0\n",
    "#time_points = [0, 10, 30, 60, 180, 360, 1800, 6000]\n",
    "time_points = [360]\n",
    "time = pd.DataFrame(time_points, columns=[\"Time_Points, s\"])\n",
    "auc_int_dna = pd.DataFrame(intact_norm_list, columns=[\"Intact DNA\"])\n",
    "auc_cut_dna_i = pd.DataFrame(cut_dna_i_norm_list, columns=[\"Cut DNA I\"])\n",
    "auc_cut_dna_ii = pd.DataFrame(cut_dna_ii_norm_list, columns=[\"Cut DNA II\"])\n",
    "df = pd.concat([time, auc_int_dna, auc_cut_dna_i, auc_cut_dna_ii], axis=1)\n",
    "df"
   ]
  },
  {
   "cell_type": "code",
   "execution_count": null,
   "id": "ec3f4d41",
   "metadata": {},
   "outputs": [],
   "source": [
    "df.to_csv('analysis_results.csv', encoding='utf-8', index = False, header = False)"
   ]
  }
 ],
 "metadata": {
  "kernelspec": {
   "display_name": "Python 3 (ipykernel)",
   "language": "python",
   "name": "python3"
  },
  "language_info": {
   "codemirror_mode": {
    "name": "ipython",
    "version": 3
   },
   "file_extension": ".py",
   "mimetype": "text/x-python",
   "name": "python",
   "nbconvert_exporter": "python",
   "pygments_lexer": "ipython3",
   "version": "3.9.7"
  }
 },
 "nbformat": 4,
 "nbformat_minor": 5
}

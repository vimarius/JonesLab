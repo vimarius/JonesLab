{
 "cells": [
  {
   "cell_type": "markdown",
   "id": "57298def",
   "metadata": {},
   "source": [
    "**I. Data upload, preparation and normalization**"
   ]
  },
  {
   "cell_type": "markdown",
   "id": "d7d6eab6",
   "metadata": {},
   "source": [
    "1. Importing packages and libraries."
   ]
  },
  {
   "cell_type": "code",
   "execution_count": null,
   "id": "da1b5dc3",
   "metadata": {},
   "outputs": [],
   "source": [
    "import numpy as np\n",
    "import scipy\n",
    "import pandas as pd\n",
    "import math\n",
    "import matplotlib.pyplot as plt\n",
    "from scipy.signal import find_peaks\n",
    "from scipy.signal import argrelextrema\n",
    "from scipy.optimize import curve_fit\n",
    "from pybaselines import Baseline\n",
    "from sklearn.metrics import auc\n",
    "import cv2\n",
    "#tuckeys test"
   ]
  },
  {
   "cell_type": "markdown",
   "id": "1015a0dd",
   "metadata": {},
   "source": [
    "2. Uploading the data of all lanes."
   ]
  },
  {
   "cell_type": "code",
   "execution_count": null,
   "id": "33d2c673",
   "metadata": {},
   "outputs": [],
   "source": [
    "cy3_excel = \"data/1 T19G + U19U CY3.xlsx\"\n",
    "cy5_excel = \"data/1 T19G + U19U CY5.xlsx\"\n",
    "cy3_image = \"1 T19G+U19U 09-17-[Cy3].tif\"\n",
    "cy5_image = \"1 T19G+U19U 09-17-[Cy5].tif\""
   ]
  },
  {
   "cell_type": "markdown",
   "id": "fb546c38",
   "metadata": {},
   "source": [
    "2.1 CY3"
   ]
  },
  {
   "cell_type": "code",
   "execution_count": null,
   "id": "0e29d998",
   "metadata": {},
   "outputs": [],
   "source": [
    "#Viewing the image\n",
    "\n",
    "tiff_cy3 = cv2.imread(cy3_image)\n",
    "plt.imshow(tiff_cy3, aspect='auto')"
   ]
  },
  {
   "cell_type": "code",
   "execution_count": null,
   "id": "e3d573a8",
   "metadata": {},
   "outputs": [],
   "source": [
    "# Uploading the data of all lanes.\n",
    "\n",
    "grey_values_list = [\"Grey_Values_T0\", \"Grey_Values_T10s\", \"Grey_Values_T30s\", \"Grey_Values_T1M\", \"Grey_Values_T3M\", \"Grey_Values_T6M\",\n",
    "                   \"Grey_Values_T30M\", \"Grey_Values_T100M\", \"Grey_Values_L1\", \"Grey_Values_L2\"]\n",
    "\n",
    "#CY3\n",
    "data_cy3 = pd.read_excel(cy3_excel)\n",
    "\n",
    "for d in data_cy3:\n",
    "    for l in grey_values_list:\n",
    "        if d == l:\n",
    "            data_cy3 = data_cy3.rename(columns={d: d+'_CY3'})"
   ]
  },
  {
   "cell_type": "code",
   "execution_count": null,
   "id": "fd61fec0",
   "metadata": {
    "scrolled": true
   },
   "outputs": [],
   "source": [
    "data_cy3"
   ]
  },
  {
   "cell_type": "code",
   "execution_count": null,
   "id": "dbe2b5ad",
   "metadata": {
    "scrolled": true
   },
   "outputs": [],
   "source": [
    "# Plotting the initial CY3 data.\n",
    "\n",
    "figure, axis = plt.subplots(nrows=10, figsize=(12, 22), constrained_layout=True)\n",
    "\n",
    "for di, d in enumerate(grey_values_list):\n",
    "    name_list = [\"T0s\", \"T10s\", \"T30s\", \"T1m\", \"T3m\", \"T6m\", \"T30m\", \"T100m\", \"Ladder1\", \"Ladder2\"]\n",
    "    axis[di].plot(data_cy3[\"Distance\"], data_cy3[d+\"_CY3\"])\n",
    "    axis[di].set_title(str(name_list[di])) \n",
    "    #axis[di].invert_xaxis()\n",
    "    axis[di].set(xlabel=\"Distance, cm\", ylabel=\"Grey Values\")"
   ]
  },
  {
   "cell_type": "markdown",
   "id": "77de2565",
   "metadata": {},
   "source": [
    "2.2 CY5"
   ]
  },
  {
   "cell_type": "code",
   "execution_count": null,
   "id": "e43c6664",
   "metadata": {},
   "outputs": [],
   "source": [
    "#Viewing the image\n",
    "\n",
    "tiff_cy5 = cv2.imread(cy5_image)\n",
    "plt.imshow(tiff_cy5, aspect='auto')"
   ]
  },
  {
   "cell_type": "code",
   "execution_count": null,
   "id": "63b974cc",
   "metadata": {},
   "outputs": [],
   "source": [
    "# Uploading the data of all lanes.\n",
    "\n",
    "#CY5\n",
    "data_cy5 = pd.read_excel(cy5_excel)\n",
    "\n",
    "for d in data_cy5:\n",
    "    for l in grey_values_list:\n",
    "        if d == l:\n",
    "            data_cy5 = data_cy5.rename(columns={d: d+'_CY5'})"
   ]
  },
  {
   "cell_type": "code",
   "execution_count": null,
   "id": "51a4443d",
   "metadata": {
    "scrolled": true
   },
   "outputs": [],
   "source": [
    "data_cy5.drop(data_cy5.tail(1).index,inplace=True)###\n",
    "data_cy5"
   ]
  },
  {
   "cell_type": "code",
   "execution_count": null,
   "id": "3d7767b3",
   "metadata": {
    "scrolled": true
   },
   "outputs": [],
   "source": [
    "# Plotting the initial CY5 data.\n",
    "\n",
    "figure, axis = plt.subplots(nrows=10, figsize=(12, 22), constrained_layout=True)\n",
    "\n",
    "for di, d in enumerate(grey_values_list):\n",
    "    name_list = [\"T0s\", \"T10s\", \"T30s\", \"T1m\", \"T3m\", \"T6m\", \"T30m\", \"T100m\", \"Ladder1\", \"Ladder2\"]\n",
    "    axis[di].plot(data_cy5[\"Distance\"], data_cy5[d+\"_CY5\"])\n",
    "    axis[di].set_title(str(name_list[di])) \n",
    "    #axis[di].invert_xaxis()\n",
    "    axis[di].set(xlabel=\"Distance, cm\", ylabel=\"Grey Values\")"
   ]
  },
  {
   "cell_type": "markdown",
   "id": "0737da63",
   "metadata": {},
   "source": [
    "3. Combining the datasets."
   ]
  },
  {
   "cell_type": "code",
   "execution_count": null,
   "id": "a7f2a19d",
   "metadata": {},
   "outputs": [],
   "source": [
    "data = pd.concat([data_cy3, data_cy5.drop(columns = [\"Distance\"])], axis=1)\n",
    "data"
   ]
  },
  {
   "cell_type": "markdown",
   "id": "5b5cc402",
   "metadata": {},
   "source": [
    "4. Removing the background (baseline adjustment)."
   ]
  },
  {
   "cell_type": "code",
   "execution_count": null,
   "id": "0879aab2",
   "metadata": {},
   "outputs": [],
   "source": [
    "grey_values_list_cy3 = [\"Grey_Values_T0_CY3\", \"Grey_Values_T10s_CY3\", \"Grey_Values_T30s_CY3\", \"Grey_Values_T1M_CY3\", \"Grey_Values_T3M_CY3\", \"Grey_Values_T6M_CY3\",\n",
    "                   \"Grey_Values_T30M_CY3\", \"Grey_Values_T100M_CY3\", \"Grey_Values_L1_CY3\", \"Grey_Values_L2_CY3\"]\n",
    "grey_values_list_cy5 = [\"Grey_Values_T0_CY5\", \"Grey_Values_T10s_CY5\", \"Grey_Values_T30s_CY5\", \"Grey_Values_T1M_CY5\", \"Grey_Values_T3M_CY5\", \"Grey_Values_T6M_CY5\",\n",
    "                   \"Grey_Values_T30M_CY5\", \"Grey_Values_T100M_CY5\", \"Grey_Values_L1_CY5\", \"Grey_Values_L2_CY5\"]\n",
    "\n",
    "grey_values_list_all = grey_values_list_cy3 + grey_values_list_cy5 "
   ]
  },
  {
   "cell_type": "code",
   "execution_count": null,
   "id": "36eb9cf6",
   "metadata": {},
   "outputs": [],
   "source": [
    "for d in data:\n",
    "    for l in grey_values_list_all:\n",
    "        if d == l:\n",
    "            baseline_fitter = Baseline(x_data=data[\"Distance\"])\n",
    "            imodpoly = baseline_fitter.imodpoly(data[d], poly_order=3, num_std=0.8)\n",
    "            new_y = data[d]-imodpoly[0]\n",
    "            new_y[new_y < 0] = 0\n",
    "            data[d+\"_baseline\"] = new_y\n",
    "       "
   ]
  },
  {
   "cell_type": "code",
   "execution_count": null,
   "id": "209155e7",
   "metadata": {},
   "outputs": [],
   "source": [
    "data"
   ]
  },
  {
   "cell_type": "code",
   "execution_count": null,
   "id": "02f60f53",
   "metadata": {},
   "outputs": [],
   "source": [
    "grey_values_list_cy3_baseline = []\n",
    "grey_values_list_cy5_baseline = []\n",
    "\n",
    "for n in grey_values_list_cy3:\n",
    "    n = n+\"_baseline\"\n",
    "    grey_values_list_cy3_baseline.append(n)\n",
    "    \n",
    "for n in grey_values_list_cy5:\n",
    "    n = n+\"_baseline\"\n",
    "    grey_values_list_cy5_baseline.append(n)\n",
    "\n",
    "grey_values_baseline_adj_list = grey_values_list_cy3_baseline + grey_values_list_cy5_baseline"
   ]
  },
  {
   "cell_type": "code",
   "execution_count": null,
   "id": "e0f5f9a4",
   "metadata": {
    "scrolled": false
   },
   "outputs": [],
   "source": [
    "# Plotting the data with adjusted baseline and initial data\n",
    "\n",
    "for di, d in enumerate(grey_values_list_cy3):\n",
    "    fig, axes = plt.subplots(2, 1, figsize=(14, 4))\n",
    "\n",
    "    name_list = [\"T0s\", \"T10s\", \"T30s\", \"T1m\", \"T3m\", \"T6m\", \"T30m\", \"T100m\", \"Ladder1\", \"Ladder2\"]\n",
    "    \n",
    "    ax = axes[0]\n",
    "    ax.set_title(name_list[di]) \n",
    "    ax.plot(data[\"Distance\"],data[grey_values_list_cy3_baseline[di]], color = \"green\")\n",
    "    ax.plot(data[\"Distance\"],data[grey_values_list_cy3[di]], color = \"lightgreen\")\n",
    "    ax.set_ylabel('CY3', rotation = 0, ha='left')\n",
    "    ax.yaxis.set_label_position(\"right\")\n",
    "\n",
    "    ax = axes[1]\n",
    "    ax.plot(data[\"Distance\"],data[grey_values_list_cy5_baseline[di]])\n",
    "    ax.plot(data[\"Distance\"],data[grey_values_list_cy5[di]], color = \"lightblue\")\n",
    "    ax.set_ylabel('CY5', rotation = 0, ha='left')\n",
    "    ax.yaxis.set_label_position(\"right\")\n",
    "    ax.set_xlabel(\"Distance, cm\")"
   ]
  },
  {
   "cell_type": "markdown",
   "id": "56a55630",
   "metadata": {},
   "source": [
    "5. Normalizing the distance in each lane."
   ]
  },
  {
   "cell_type": "code",
   "execution_count": null,
   "id": "fb1024b7",
   "metadata": {},
   "outputs": [],
   "source": [
    "#Finding peak values:\n",
    "\n",
    "peaks_list_cy3 = []\n",
    "peaks_list_cy5 = []\n",
    "\n",
    "\n",
    "for di, d in enumerate(grey_values_list_cy3_baseline):\n",
    "    peaks, values = find_peaks(data[d], height=3000)\n",
    "    peak_values = data.iloc[peaks, 0]\n",
    "    peak_values = list(peak_values)\n",
    "    peak_data = (peak_values)\n",
    "    peaks_list_cy3.append(peak_data)\n",
    "    #print(peak_data)\n",
    "\n",
    "for di, d in enumerate(grey_values_list_cy5_baseline):\n",
    "    peaks, values = find_peaks(data[d], height=600)\n",
    "    peak_values = data.iloc[peaks, 0]\n",
    "    peak_values = list(peak_values)\n",
    "    peak_data = (peak_values)\n",
    "    peaks_list_cy5.append(peak_data)\n",
    "    #print(peak_data)   \n",
    "\n",
    "peaks_list = peaks_list_cy3 + peaks_list_cy5    \n",
    "print(peaks_list)"
   ]
  },
  {
   "cell_type": "code",
   "execution_count": null,
   "id": "43ccc388",
   "metadata": {},
   "outputs": [],
   "source": [
    "# Markers (min and max values of peaks of each lane) are taken only from CY5 - CY3 tends to be more inconsitent.\n",
    "\n",
    "min_max_list = []\n",
    "\n",
    "for i in peaks_list_cy5:\n",
    "    min_peak = i[0]\n",
    "    max_peak = i[-1]\n",
    "    min_max = list((min_peak, max_peak))\n",
    "    min_max_list.append(min_max)\n",
    "min_max_list = min_max_list+min_max_list"
   ]
  },
  {
   "cell_type": "code",
   "execution_count": null,
   "id": "2180cd0a",
   "metadata": {
    "scrolled": true
   },
   "outputs": [],
   "source": [
    "# Normalizing the distance\n",
    "\n",
    "norm_list = []\n",
    "name_list_cy3 = [\"T0s_CY3\", \"T10s_CY3\", \"T30s_CY3\", \"T1m_CY3\", \"T3m_CY3\", \"T6m_CY3\", \"T30m_CY3\", \"T100m_CY3\", \"Ladder1_CY3\", \"Ladder2_CY3\"]\n",
    "name_list_cy5 = [\"T0s_CY5\", \"T10s_CY5\", \"T30s_CY5\", \"T1m_CY5\", \"T3m_CY5\", \"T6m_CY5\", \"T30m_CY5\", \"T100m_CY5\", \"Ladder1_CY5\", \"Ladder2_CY5\"]\n",
    "name_list = name_list_cy3 + name_list_cy5\n",
    "\n",
    "for i, n in min_max_list:\n",
    "    norm_distance = ((data[\"Distance\"] - i) / (n - i))\n",
    "    norm_list.append(norm_distance)\n",
    "\n",
    "for i, n in enumerate(norm_list):\n",
    "    data[name_list[i]+\"_norm_distance\"] = n\n",
    "    \n",
    "data"
   ]
  },
  {
   "cell_type": "code",
   "execution_count": null,
   "id": "1117af1e",
   "metadata": {},
   "outputs": [],
   "source": [
    "df = data[['Ladder1_CY5_norm_distance', 'Grey_Values_L1_CY5_baseline']]\n",
    "df.to_csv('Ladder1_CY5_norm_distance.csv', encoding='utf-8', index = False)"
   ]
  },
  {
   "cell_type": "code",
   "execution_count": null,
   "id": "4a8c58c0",
   "metadata": {},
   "outputs": [],
   "source": [
    "distance_norm_list_cy3 = []\n",
    "distance_norm_list_cy5 = []\n",
    "\n",
    "\n",
    "for n in name_list_cy3:\n",
    "    n = n+\"_norm_distance\"\n",
    "    distance_norm_list_cy3.append(n)\n",
    "    \n",
    "for n in name_list_cy5:\n",
    "    n = n+\"_norm_distance\"\n",
    "    distance_norm_list_cy5.append(n)"
   ]
  },
  {
   "cell_type": "markdown",
   "id": "d5735861",
   "metadata": {},
   "source": [
    "6. Plotting the 0-1 normalized data."
   ]
  },
  {
   "cell_type": "code",
   "execution_count": null,
   "id": "36624602",
   "metadata": {
    "scrolled": false
   },
   "outputs": [],
   "source": [
    "# Plotting the data with normalized distance\n",
    "\n",
    "for di, d in enumerate(grey_values_list_cy3):\n",
    "    fig, axes = plt.subplots(2, 1, figsize=(14, 4))\n",
    "\n",
    "    name_list = [\"T0s\", \"T10s\", \"T30s\", \"T1m\", \"T3m\", \"T6m\", \"T30m\", \"T100m\", \"Ladder1\", \"Ladder2\"]\n",
    "    \n",
    "    ax = axes[0]\n",
    "    ax.set_title(name_list[di]) \n",
    "    ax.plot(data[distance_norm_list_cy3[di]], data[grey_values_list_cy3_baseline[di]], color = \"green\")\n",
    "    ax.set_ylabel('CY3', rotation = 0, ha='left')\n",
    "    ax.yaxis.set_label_position(\"right\")\n",
    "\n",
    "    ax = axes[1]\n",
    "    ax.plot(data[distance_norm_list_cy5[di]], data[grey_values_list_cy5_baseline[di]])\n",
    "    ax.set_ylabel('CY5', rotation = 0, ha='left')\n",
    "    ax.yaxis.set_label_position(\"right\")\n",
    "    ax.set_xlabel(\"Distance, cm\")"
   ]
  },
  {
   "cell_type": "code",
   "execution_count": null,
   "id": "e359cad8",
   "metadata": {
    "scrolled": false
   },
   "outputs": [],
   "source": [
    "# Plotting the data with normalized distance\n",
    "\n",
    "for di, d in enumerate(grey_values_list_cy3):\n",
    "    fig, axes = plt.subplots(2, 1, figsize=(14, 4))\n",
    "\n",
    "    name_list = [\"T0s\", \"T10s\", \"T30s\", \"T1m\", \"T3m\", \"T6m\", \"T30m\", \"T100m\", \"Ladder1\", \"Ladder2\"]\n",
    "    \n",
    "    ax = axes[0]\n",
    "    ax.set_title(name_list[di]) \n",
    "    ax.plot(data[distance_norm_list_cy3[di]], data[grey_values_list_cy3_baseline[di]], color = \"green\")\n",
    "    ax.set_ylabel('CY3', rotation = 0, ha='left')\n",
    "    ax.yaxis.set_label_position(\"right\")\n",
    "    ax.set_xlim(0, 1)\n",
    "\n",
    "    ax = axes[1]\n",
    "    ax.plot(data[distance_norm_list_cy5[di]], data[grey_values_list_cy5_baseline[di]])\n",
    "    ax.set_ylabel('CY5', rotation = 0, ha='left')\n",
    "    ax.yaxis.set_label_position(\"right\")\n",
    "    ax.set_xlabel(\"Distance, cm\")\n",
    "    ax.set_xlim(0, 1)"
   ]
  },
  {
   "cell_type": "markdown",
   "id": "9d8182a8",
   "metadata": {},
   "source": [
    "**II. Ladder**"
   ]
  },
  {
   "cell_type": "markdown",
   "id": "4d011e1e",
   "metadata": {},
   "source": [
    "1. Finding the peak values. "
   ]
  },
  {
   "cell_type": "code",
   "execution_count": null,
   "id": "d2f4eabe",
   "metadata": {
    "scrolled": false
   },
   "outputs": [],
   "source": [
    "#Laddder lane 1 (CY5)\n",
    "\n",
    "plt.figure(figsize=(15,6))\n",
    "plot = plt.plot(data['Ladder1_CY5_norm_distance'], data['Grey_Values_L1_CY5_baseline'])\n",
    "plt.xlabel(\"Distance, cm\")\n",
    "plt.ylabel(\"Grey Values\")\n",
    "\n",
    "plt.show()"
   ]
  },
  {
   "cell_type": "code",
   "execution_count": null,
   "id": "4744f030",
   "metadata": {},
   "outputs": [],
   "source": [
    "#Finding ladder 1 peak values:\n",
    "\n",
    "peaks_l1, values_l1 = find_peaks(data['Grey_Values_L1_CY5_baseline'], height=600)\n",
    "peak_values_l1 = data.iloc[peaks_l1, -2]"
   ]
  },
  {
   "cell_type": "code",
   "execution_count": null,
   "id": "bcb90a37",
   "metadata": {},
   "outputs": [],
   "source": [
    "peak_values_l1 = list(peak_values_l1)\n",
    "peak_values_l1"
   ]
  },
  {
   "cell_type": "code",
   "execution_count": null,
   "id": "ae37b40c",
   "metadata": {},
   "outputs": [],
   "source": [
    "plt.figure(figsize=(15,6))\n",
    "plot = plt.plot(data['Ladder1_CY5_norm_distance'], data['Grey_Values_L1_CY5_baseline'])\n",
    "plt.scatter(peak_values_l1, values_l1.values(), color='red')\n",
    "plt.xlabel(\"Distance, cm\")\n",
    "plt.ylabel(\"Grey Values\")\n",
    "plt.show()"
   ]
  },
  {
   "cell_type": "code",
   "execution_count": null,
   "id": "4524a09b",
   "metadata": {},
   "outputs": [],
   "source": [
    "cut_x_data = data['Ladder1_CY5_norm_distance']\n",
    "cut_x_data = cut_x_data[peaks_l1[0]:peaks_l1[-1]+1]\n",
    "cut_x_data"
   ]
  },
  {
   "cell_type": "code",
   "execution_count": null,
   "id": "ee177673",
   "metadata": {},
   "outputs": [],
   "source": [
    "cut_y_data = data['Grey_Values_L1_CY5_baseline']\n",
    "cut_y_data = cut_y_data[peaks_l1[0]:peaks_l1[-1]+1]\n",
    "cut_y_data"
   ]
  },
  {
   "cell_type": "code",
   "execution_count": null,
   "id": "a8bf8062",
   "metadata": {},
   "outputs": [],
   "source": [
    "plt.figure(figsize=(15,6))\n",
    "plot = plt.plot(cut_x_data, cut_y_data)\n",
    "plt.scatter(peak_values_l1, values_l1.values(), color='red')\n",
    "plt.xlabel(\"Distance, cm\")\n",
    "plt.ylabel(\"Grey Values\")\n",
    "plt.show()"
   ]
  },
  {
   "cell_type": "markdown",
   "id": "4190fdcd",
   "metadata": {},
   "source": [
    "2.1  Converting distance to nt. Exponential distance between peaks based on a single equation of all data points."
   ]
  },
  {
   "cell_type": "code",
   "execution_count": null,
   "id": "2f6c27ed",
   "metadata": {},
   "outputs": [],
   "source": [
    "ladder_lane = [141, 116, 81, 71, 66, 60, 55, 51, 46, 41, 35, 28]"
   ]
  },
  {
   "cell_type": "code",
   "execution_count": null,
   "id": "e0ea7273",
   "metadata": {
    "scrolled": false
   },
   "outputs": [],
   "source": [
    "ladder_df = pd.DataFrame(ladder_lane, columns=[\"Ladder\"])\n",
    "values_df = pd.DataFrame(peak_values_l1, columns=[\"Norm. distance\"])\n",
    "curve_data = pd.concat([ladder_df, values_df], axis=1)\n",
    "curve_data "
   ]
  },
  {
   "cell_type": "code",
   "execution_count": null,
   "id": "087c57e2",
   "metadata": {},
   "outputs": [],
   "source": [
    "def fitting_function(xs, ys):\n",
    "\n",
    "    const_list = []\n",
    "    \n",
    "    # perform the fit\n",
    "    p0 = (60, 1, 30) # start with values near those we expect\n",
    "    params, cv = scipy.optimize.curve_fit(monoExp, xs, ys, p0, maxfev=5000)\n",
    "    m, t, b = params\n",
    "\n",
    "    # determine quality of the fit\n",
    "    squaredDiffs = np.square(ys - monoExp(xs, m, t, b))\n",
    "    squaredDiffsFromMean = np.square(ys - np.mean(ys))\n",
    "    rSquared = 1 - np.sum(squaredDiffs) / np.sum(squaredDiffsFromMean)\n",
    "    print(f\"R² = {rSquared}\")\n",
    "\n",
    "    # plot the results\n",
    "    plt.figure(figsize=(10,6))\n",
    "    plt.plot(xs, ys, '.', label=\"data\")\n",
    "    model_x = np.arange(np.min(xs), np.max(xs), step = 0.01)\n",
    "    plt.plot(model_x, monoExp(model_x, m, t, b), label=\"fitted\")\n",
    "   # plt.title(\"Fitted Exponential Curve\")\n",
    "\n",
    "    # inspect the parameters\n",
    "    print(f\"Y = {m} * e^(-{t} * x) + {b}\")\n",
    "    \n",
    "    const_list.append(m)\n",
    "    const_list.append(t)\n",
    "    const_list.append(b)\n",
    "    \n",
    "    return const_list\n",
    "\n",
    "def monoExp(x, m, t, b):\n",
    "    return m * np.exp(-t * x) + b\n",
    "    "
   ]
  },
  {
   "cell_type": "code",
   "execution_count": null,
   "id": "5aaa6e56",
   "metadata": {},
   "outputs": [],
   "source": [
    "xs = curve_data.iloc[:, 1]\n",
    "ys = curve_data.iloc[:, 0]\n",
    "\n",
    "plt.figure(figsize=(10,6))\n",
    "plt.plot(xs, ys, '.')\n",
    "plt.title(\"Original Data\")"
   ]
  },
  {
   "cell_type": "code",
   "execution_count": null,
   "id": "ce4de80a",
   "metadata": {},
   "outputs": [],
   "source": [
    "const_values = fitting_function(xs, ys)"
   ]
  },
  {
   "cell_type": "code",
   "execution_count": null,
   "id": "1d00cea8",
   "metadata": {},
   "outputs": [],
   "source": [
    "exp_x_list = []\n",
    "\n",
    "for i in cut_x_data: \n",
    "    value = const_values[0] * math.exp(-const_values[1]*i)+const_values[2]\n",
    "    exp_x_list.append(value)\n",
    "\n",
    "#exp_x_list "
   ]
  },
  {
   "cell_type": "code",
   "execution_count": null,
   "id": "c564dec2",
   "metadata": {},
   "outputs": [],
   "source": [
    "plt.figure(figsize=(15,6))\n",
    "plot = plt.plot(exp_x_list, cut_y_data)\n",
    "ax = plt.gca().invert_xaxis()\n",
    "plt.xlabel(\"Size in nt\")\n",
    "plt.ylabel(\"Grey Values\")\n",
    "plt.show()"
   ]
  },
  {
   "cell_type": "code",
   "execution_count": null,
   "id": "588fe499",
   "metadata": {},
   "outputs": [],
   "source": [
    "exp_ladder_list = []\n",
    "\n",
    "for i, n in enumerate(exp_x_list):\n",
    "    if i in peaks_l1-peaks_l1[0]: ## cut data is shifted, so it is moved by length of peaks_l1[0]\n",
    "        exp_ladder_list.append(n)\n",
    "exp_ladder_list"
   ]
  },
  {
   "cell_type": "code",
   "execution_count": null,
   "id": "efbcc0d9",
   "metadata": {},
   "outputs": [],
   "source": [
    "values_exp_ladder = pd.DataFrame(exp_ladder_list, columns=[\"Exp. all peaks\"])\n",
    "curve_data2 = pd.concat([curve_data, values_exp_ladder], axis=1)\n",
    "curve_data2"
   ]
  },
  {
   "cell_type": "markdown",
   "id": "63c8e47d",
   "metadata": {},
   "source": [
    "2.2 Converting distance to nt. Exponential distance between peaks. 4 points overlap."
   ]
  },
  {
   "cell_type": "code",
   "execution_count": null,
   "id": "cb20ff86",
   "metadata": {},
   "outputs": [],
   "source": [
    "curve_data_list = curve_data.values.tolist()\n",
    "curve_data_list"
   ]
  },
  {
   "cell_type": "code",
   "execution_count": null,
   "id": "973ec434",
   "metadata": {},
   "outputs": [],
   "source": [
    "curve_data_list_nt = []\n",
    "curve_data_list_dist = []\n",
    "\n",
    "for i, n  in curve_data_list:\n",
    "    curve_data_list_nt.append(i)\n",
    "    curve_data_list_dist.append(n)"
   ]
  },
  {
   "cell_type": "code",
   "execution_count": null,
   "id": "e0a6324c",
   "metadata": {},
   "outputs": [],
   "source": [
    "overlap = 3\n",
    "size = 4\n",
    "\n",
    "overlap_list_nt = []\n",
    "overlap_list_dist = []\n",
    "\n",
    "for i in range(0, len(curve_data_list_nt) - overlap, size - overlap):            \n",
    "    k = curve_data_list_nt[i:i + size]\n",
    "    j = curve_data_list_dist[i:i + size]\n",
    "    overlap_list_nt.append(k)\n",
    "    overlap_list_dist.append(j)\n",
    "\n",
    "overlap_list_nt"
   ]
  },
  {
   "cell_type": "code",
   "execution_count": null,
   "id": "81bee1e2",
   "metadata": {
    "scrolled": true
   },
   "outputs": [],
   "source": [
    "values_list = []\n",
    "for i in range(len(overlap_list_dist)):\n",
    "    xs = np.array(overlap_list_dist[i])\n",
    "    ys = np.array(overlap_list_nt[i])\n",
    "    a = fitting_function(xs, ys)\n",
    "    values_list.append(a)"
   ]
  },
  {
   "cell_type": "code",
   "execution_count": null,
   "id": "9e5d1268",
   "metadata": {},
   "outputs": [],
   "source": [
    "ranges_list = []\n",
    "data_ranges_list = []\n",
    "\n",
    "for i in range(len(peaks_l1)):\n",
    "    if i+1 != len(peaks_l1):\n",
    "        ranges = list((peaks_l1[i], peaks_l1[i+1]))\n",
    "        ranges_list.append(ranges)\n",
    "\n",
    "for i, n in ranges_list:\n",
    "    data_range = list(cut_x_data[i-peaks_l1[0]:n-peaks_l1[0]+1])\n",
    "    data_ranges_list.append(data_range)"
   ]
  },
  {
   "cell_type": "code",
   "execution_count": null,
   "id": "d85b3cd0",
   "metadata": {},
   "outputs": [],
   "source": [
    "# Dividing data into ranges and removing overlapping values \n",
    "\n",
    "new_data_ranges_list = [list(dict.fromkeys(data_ranges_list[0]+data_ranges_list[1])), data_ranges_list[2], data_ranges_list[3],\n",
    "                       data_ranges_list[4], data_ranges_list[5], data_ranges_list[6], data_ranges_list[7], data_ranges_list[8],\n",
    "                       list(dict.fromkeys(data_ranges_list[9]+data_ranges_list[10]))]\n",
    "\n",
    "for i in range(len(new_data_ranges_list)-1):\n",
    "    remove_last = new_data_ranges_list[i]\n",
    "    del remove_last[-1]"
   ]
  },
  {
   "cell_type": "code",
   "execution_count": null,
   "id": "560b2777",
   "metadata": {
    "scrolled": true
   },
   "outputs": [],
   "source": [
    "exp_x_list_4p = []\n",
    "\n",
    "for j, k in enumerate(new_data_ranges_list):\n",
    "    for i in k:\n",
    "        values_list1 = values_list[j]\n",
    "        value = values_list1[0] * math.exp(-values_list1[1]*i)+values_list1[2]\n",
    "        exp_x_list_4p.append(value)\n",
    "        \n",
    "exp_x_list_4p"
   ]
  },
  {
   "cell_type": "code",
   "execution_count": null,
   "id": "a89a7d58",
   "metadata": {},
   "outputs": [],
   "source": [
    "plt.figure(figsize=(15,6))\n",
    "plot = plt.plot(exp_x_list, cut_y_data)####\n",
    "ax = plt.gca().invert_xaxis()\n",
    "plt.xlabel(\"Size in nt\")\n",
    "plt.ylabel(\"Grey Values\")\n",
    "plt.show()"
   ]
  },
  {
   "cell_type": "code",
   "execution_count": null,
   "id": "c5e9e9f7",
   "metadata": {},
   "outputs": [],
   "source": [
    "exp_ladder_list_4p = []\n",
    "\n",
    "for i, n in enumerate(exp_x_list_4p):\n",
    "    if i in peaks_l1-18:\n",
    "        exp_ladder_list_4p.append(n)\n",
    "exp_ladder_list_4p"
   ]
  },
  {
   "cell_type": "code",
   "execution_count": null,
   "id": "2a3e4dee",
   "metadata": {},
   "outputs": [],
   "source": [
    "values_exp_ladder_4p = pd.DataFrame(exp_ladder_list_4p, columns=[\"Exp. all peaks, 4 points\"])\n",
    "curve_data3 = pd.concat([curve_data2, values_exp_ladder_4p], axis=1)\n",
    "curve_data3"
   ]
  },
  {
   "cell_type": "code",
   "execution_count": null,
   "id": "aa940cdb",
   "metadata": {},
   "outputs": [],
   "source": [
    "cut_y0_data = data['Grey_Values_T0_CY5_baseline']\n",
    "cut_y0_data = cut_y0_data[peaks_l1[0]:peaks_l1[-1]+1]\n",
    "cut_y0_data"
   ]
  },
  {
   "cell_type": "markdown",
   "id": "f8076382",
   "metadata": {},
   "source": [
    "**3. AUC**"
   ]
  },
  {
   "cell_type": "markdown",
   "id": "b4b7288e",
   "metadata": {},
   "source": [
    "1. Applying conversion to nt."
   ]
  },
  {
   "cell_type": "code",
   "execution_count": null,
   "id": "0dfa4c9d",
   "metadata": {},
   "outputs": [],
   "source": [
    "data_t0s = data[['T0s_CY5_norm_distance', \"Grey_Values_T0_CY5_baseline\"]]\n",
    "data_t10s = data[['T10s_CY5_norm_distance', \"Grey_Values_T10s_CY5_baseline\"]]\n",
    "data_t30s = data [['T30s_CY5_norm_distance', \"Grey_Values_T30s_CY5_baseline\"]]\n",
    "data_t1m = data[['T1m_CY5_norm_distance', \"Grey_Values_T1M_CY5_baseline\"]]\n",
    "data_t3m = data[['T3m_CY5_norm_distance', \"Grey_Values_T3M_CY5_baseline\"]]\n",
    "data_t6m = data[['T6m_CY5_norm_distance', \"Grey_Values_T6M_CY5_baseline\"]]\n",
    "data_t30m = data[['T30m_CY5_norm_distance', \"Grey_Values_T30M_CY5_baseline\"]]\n",
    "data_t100m = data[['T100m_CY5_norm_distance', \"Grey_Values_T100M_CY5_baseline\"]]"
   ]
  },
  {
   "cell_type": "code",
   "execution_count": null,
   "id": "8ac401b1",
   "metadata": {},
   "outputs": [],
   "source": [
    "data_list = [data_t0s, data_t10s, data_t30s, data_t1m, data_t3m, data_t6m, data_t30m, data_t100m]"
   ]
  },
  {
   "cell_type": "markdown",
   "id": "cdfc725a",
   "metadata": {},
   "source": [
    "2. Selecting substrate area based on t0s."
   ]
  },
  {
   "cell_type": "code",
   "execution_count": null,
   "id": "2d75a5cb",
   "metadata": {},
   "outputs": [],
   "source": [
    "# Selecting area for the analysis\n",
    "\n",
    "data_cutpeak_list1 = []\n",
    "\n",
    "for d in data_list:\n",
    "    d = d[50:300]\n",
    "    data_cutpeak_list1.append(d)\n",
    " "
   ]
  },
  {
   "cell_type": "code",
   "execution_count": null,
   "id": "017b25cb",
   "metadata": {},
   "outputs": [],
   "source": [
    "# Plotting the initial data with normalized distance\n",
    "\n",
    "figure, axis = plt.subplots(nrows=8, figsize=(18, 30), constrained_layout=True)\n",
    "\n",
    "for di, d in enumerate(data_cutpeak_list1):\n",
    "    name_list = [\"T0s\", \"T10s\", \"T30s\", \"T1m\", \"T3m\", \"T6m\", \"T30m\", \"T100m\"]\n",
    "    axis[di].plot(d.iloc[:, 0], d.iloc[:, 1])\n",
    "    axis[di].set_title(str(name_list[di])) \n",
    "    #axis[di].invert_xaxis()\n",
    "    axis[di].set(xlabel=\"Distance, cm\", ylabel=\"Grey Values\")"
   ]
  },
  {
   "cell_type": "code",
   "execution_count": null,
   "id": "77b57375",
   "metadata": {},
   "outputs": [],
   "source": [
    "# Getting the total area under the curve in each lane\n",
    "\n",
    "auc_total_area_list  = []\n",
    "\n",
    "for d in data_list:\n",
    "    d_auc = auc(d.iloc[:, 0], d.iloc[:, 1])\n",
    "    auc_total_area_list .append(d_auc)\n",
    "    \n",
    "auc_total_area_list "
   ]
  },
  {
   "cell_type": "code",
   "execution_count": null,
   "id": "b20e0d06",
   "metadata": {},
   "outputs": [],
   "source": [
    "# Getting the area under the curve of substrate in each lane\n",
    "\n",
    "auc_substrate_list = []\n",
    "\n",
    "for d in data_list:\n",
    "    d_auc = auc(d.iloc[50:300,0], d.iloc[50:300,1])\n",
    "    auc_substrate_list.append(d_auc)\n",
    "    \n",
    "auc_substrate_list"
   ]
  },
  {
   "cell_type": "code",
   "execution_count": null,
   "id": "8742cf21",
   "metadata": {},
   "outputs": [],
   "source": [
    "# Getting the percentage of substrate in each lane compared to total\n",
    "auc_percent_of_total_list = []\n",
    "\n",
    "for i in range(len(auc_substrate_list)):\n",
    "    auc_percent_of_total = auc_substrate_list[i]/auc_total_area_list[i]\n",
    "    auc_percent_of_total_list.append(auc_percent_of_total)\n",
    "\n",
    "auc_percent_of_total_list"
   ]
  },
  {
   "cell_type": "code",
   "execution_count": null,
   "id": "bdce5cc4",
   "metadata": {},
   "outputs": [],
   "source": [
    "# Getting the percentage of substrate in each lane\n",
    "auc_percent_substrate_list = []\n",
    "\n",
    "for i in auc_percent_of_total_list:\n",
    "    auc_percent_substrate = i/auc_percent_of_total_list[0]\n",
    "    auc_percent_substrate_list.append(auc_percent_substrate)\n",
    "\n",
    "auc_percent_substrate_list"
   ]
  },
  {
   "cell_type": "code",
   "execution_count": null,
   "id": "684a1ee0",
   "metadata": {},
   "outputs": [],
   "source": [
    "auc_percent_substrate_list[-1] = 0\n",
    "time_points = [0, 10, 30, 60, 180, 360, 1800, 6000]\n",
    "time = pd.DataFrame(time_points, columns=[\"Time_Points\"])\n",
    "auc_sub = pd.DataFrame(auc_percent_substrate_list, columns=[\"Decay\"])\n",
    "df_sub = pd.concat([time, auc_sub], axis=1)\n",
    "df_sub"
   ]
  },
  {
   "cell_type": "code",
   "execution_count": null,
   "id": "2531191d",
   "metadata": {},
   "outputs": [],
   "source": [
    "df_sub.to_csv('data/results_20240110/substrate_decay.csv', encoding='utf-8', index = False, header = False)"
   ]
  },
  {
   "cell_type": "code",
   "execution_count": null,
   "id": "12f7bd85",
   "metadata": {},
   "outputs": [],
   "source": []
  },
  {
   "cell_type": "code",
   "execution_count": null,
   "id": "119f11b5",
   "metadata": {},
   "outputs": [],
   "source": []
  }
 ],
 "metadata": {
  "kernelspec": {
   "display_name": "Python 3 (ipykernel)",
   "language": "python",
   "name": "python3"
  },
  "language_info": {
   "codemirror_mode": {
    "name": "ipython",
    "version": 3
   },
   "file_extension": ".py",
   "mimetype": "text/x-python",
   "name": "python",
   "nbconvert_exporter": "python",
   "pygments_lexer": "ipython3",
   "version": "3.9.7"
  }
 },
 "nbformat": 4,
 "nbformat_minor": 5
}

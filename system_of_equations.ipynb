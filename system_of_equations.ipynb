{
 "cells": [
  {
   "cell_type": "markdown",
   "id": "ed90c1f1",
   "metadata": {},
   "source": [
    "# Gather required libraries"
   ]
  },
  {
   "cell_type": "code",
   "execution_count": 1,
   "id": "ebdaa803",
   "metadata": {},
   "outputs": [],
   "source": [
    "from scipy.integrate import odeint\n",
    "import numpy as np\n",
    "import scipy.optimize\n",
    "import matplotlib.pyplot as plt"
   ]
  },
  {
   "cell_type": "markdown",
   "id": "c88fbd5a",
   "metadata": {},
   "source": [
    "# test data"
   ]
  },
  {
   "cell_type": "code",
   "execution_count": 10,
   "id": "a0847473",
   "metadata": {},
   "outputs": [],
   "source": [
    "time_points = [0, 1, 3, 10, 30, 60, 100]\n",
    "intact_dna = [1, 0.8, 0.7, 0.5, 0.12, 0.02, 0]\n",
    "\n",
    "cut_dna1 = [0, 0.20, 0.34, 0.44, 0.52, 0.57, 1]"
   ]
  },
  {
   "cell_type": "markdown",
   "id": "11a1a6a7",
   "metadata": {},
   "source": [
    "# Fit decay rate to data"
   ]
  },
  {
   "cell_type": "code",
   "execution_count": 11,
   "id": "819cd35d",
   "metadata": {},
   "outputs": [],
   "source": [
    "myT = time_points\n",
    "myY_int = intact_dna"
   ]
  },
  {
   "cell_type": "code",
   "execution_count": 12,
   "id": "0fb2b057",
   "metadata": {},
   "outputs": [],
   "source": [
    "def model_Exp_0(t, k):\n",
    "    return np.exp(-k * t)\n",
    "\n",
    "#initial guess for the rate\n",
    "Ko = 0.1"
   ]
  },
  {
   "cell_type": "code",
   "execution_count": 13,
   "id": "dc459db3",
   "metadata": {},
   "outputs": [
    {
     "name": "stdout",
     "output_type": "stream",
     "text": [
      "decay rate = 0.08016459208473994\n"
     ]
    }
   ],
   "source": [
    "#perform the fit\n",
    "\n",
    "#Intact\n",
    "params1, cv = scipy.optimize.curve_fit(model_Exp_0, myT, myY_int, Ko)\n",
    "sampleRate = 20000 #per second\n",
    "\n",
    "print(\"decay rate = {}\".format(params1[0]))"
   ]
  },
  {
   "cell_type": "code",
   "execution_count": 14,
   "id": "4004fd40",
   "metadata": {},
   "outputs": [
    {
     "data": {
      "text/plain": [
       "Text(2.5, 0.9, 'f(t) = e^(-0.08016 * t)')"
      ]
     },
     "execution_count": 14,
     "metadata": {},
     "output_type": "execute_result"
    },
    {
     "data": {
      "image/png": "[encoded data removed]",
      "text/plain": [
       "<Figure size 576x432 with 1 Axes>"
      ]
     },
     "metadata": {
      "needs_background": "light"
     },
     "output_type": "display_data"
    }
   ],
   "source": [
    "#Intact \n",
    "#Generate values for the fitted exponential function\n",
    "xs1 = np.linspace(min(myT), 1.1*max(myT), 200)\n",
    "ys1 = model_Exp_0(xs1, params1[0])\n",
    "text1 = \"f(t) = e^(-{:.5f} * t)\".format(params1[0])\n",
    "    \n",
    "#Plot the figure of your data and the fitted function\n",
    "fig = plt.figure(figsize=(8,6))\n",
    "plt.plot(myT, myY_int, '.')\n",
    "plt.plot(xs1, ys1, '--', label=\"intact\")\n",
    "plt.text(2.5, 0.9, text1, verticalalignment='top')\n",
    "\n",
    "\n",
    "#Add labels\n",
    "plt.title(\"Fitted exponential function\")\n",
    "plt.xlabel(\"Time\")\n",
    "plt.ylabel(\"Fraction\")\n",
    "plt.legend(loc=\"upper right\")\n",
    "\n",
    "#Overlay the function and R2 values on the figure\n",
    "#text2 = \"R² = {:.3f}\".format(rSquared)\n",
    "plt.text(2.5, 0.9, text1, verticalalignment='top')\n",
    "#plt.text(2.5,0.8,text2, verticalalignment='top')\n",
    "\n"
   ]
  },
  {
   "cell_type": "code",
   "execution_count": 15,
   "id": "ea6f1c85",
   "metadata": {
    "scrolled": true
   },
   "outputs": [
    {
     "data": {
      "image/png": "[encoded data removed]",
      "text/plain": [
       "<Figure size 432x288 with 1 Axes>"
      ]
     },
     "metadata": {
      "needs_background": "light"
     },
     "output_type": "display_data"
    },
    {
     "name": "stdout",
     "output_type": "stream",
     "text": [
      "Optimal parameters (k): [0.02604104]\n"
     ]
    }
   ],
   "source": [
    "#Cleavage products\n",
    "\n",
    "# Define the exponential growth function\n",
    "def exponential_growth(x, k):\n",
    "    return 1-np.exp(-k * x)\n",
    "\n",
    "\n",
    "\n",
    "# Fit the exponential growth function to the data\n",
    "popt, pcov = scipy.optimize.curve_fit(exponential_growth, time_points, cut_dna1)\n",
    "\n",
    "\n",
    "# Generate points for the fitted curve\n",
    "x_fit = np.linspace(0, 100)\n",
    "y_fit = exponential_growth(x_fit, popt)\n",
    "\n",
    "# Plot the original data and the fitted curve\n",
    "plt.scatter(time_points, cut_dna1)\n",
    "plt.plot(x_fit, y_fit, '--', label=\"cleavage 1\")\n",
    "plt.xlabel('x')\n",
    "plt.ylabel('y')\n",
    "plt.legend()\n",
    "\n",
    "plt.show()\n",
    "\n",
    "print(\"Optimal parameters (k):\", popt)"
   ]
  },
  {
   "cell_type": "code",
   "execution_count": null,
   "id": "a2e13cdd",
   "metadata": {},
   "outputs": [],
   "source": [
    "import numpy as np\n",
    "\n",
    "# Define exponential growth and decay functions\n",
    "def exponential_growth(A0, k, t):\n",
    "    return A0 * np.exp(k * t)\n",
    "\n",
    "def exponential_decay(B0, k, t):\n",
    "    return B0 * np.exp(-k * t)\n",
    "\n",
    "# Example usage\n",
    "A0 = 100  # Initial quantity for growth\n",
    "B0 = 200  # Initial quantity for decay\n",
    "k = 0.1   # Growth or decay rate\n",
    "\n",
    "# Time points\n",
    "t_values = np.linspace(0, 10, 100)\n",
    "\n",
    "# Calculate quantities over time\n",
    "A_values = exponential_growth(A0, k, t_values)\n",
    "B_values = exponential_decay(B0, k, t_values)\n",
    "\n",
    "# Print some example values\n",
    "print(\"Time    | Quantity A | Quantity B\")\n",
    "for t, A, B in zip(t_values[:5], A_values[:5], B_values[:5]):\n",
    "    print(f\"{t:.2f}    |    {A:.2f}    |    {B:.2f}\")"
   ]
  },
  {
   "cell_type": "code",
   "execution_count": null,
   "id": "93b1ad46",
   "metadata": {},
   "outputs": [],
   "source": []
  },
  {
   "cell_type": "code",
   "execution_count": null,
   "id": "5413efef",
   "metadata": {},
   "outputs": [],
   "source": []
  },
  {
   "cell_type": "code",
   "execution_count": null,
   "id": "e46499f3",
   "metadata": {},
   "outputs": [],
   "source": [
    "# Finding the rate of change of each function\n",
    "\n",
    "a = 1 # infection rate\n",
    "b = 0.1 # recovery rate - any numbers for now, but let's say 10% of people recover"
   ]
  },
  {
   "cell_type": "code",
   "execution_count": null,
   "id": "149b81b6",
   "metadata": {},
   "outputs": [],
   "source": [
    "# Function to calculate derivatives at time t\n",
    "\n",
    "def f(y,t):\n",
    "    S, I, R = y \n",
    "    d0 = -a*S*I # derivative of S(t)\n",
    "    d1 = a*S*I - b*I # derivative of I(t)\n",
    "    d2 = b*I # derivative of R(t)\n",
    "    return [d0, d1, d2]"
   ]
  },
  {
   "cell_type": "code",
   "execution_count": null,
   "id": "5ce21427",
   "metadata": {},
   "outputs": [],
   "source": [
    "#1)\n",
    "\n",
    "#Inputs:\n",
    "# y = fsdfs\n",
    "# t = time\n",
    "\n",
    "def f(y,t):\n",
    "    \n",
    "#2)\n",
    "#Outputs:\n",
    "# y = \n",
    "    return y,t\n",
    "\n",
    "#3)\n",
    "def f(y,t):\n",
    "    #Add the inputs together\n",
    "    #Divide them by number of inputs\n",
    "    #Return the average to the user\n",
    "    return average"
   ]
  },
  {
   "cell_type": "code",
   "execution_count": null,
   "id": "b98fae29",
   "metadata": {},
   "outputs": [],
   "source": [
    "# Let's give some initial values to predict:\n",
    "\n",
    "S_0 = 1\n",
    "I_0 = 5/1000000\n",
    "R_0 = 0\n",
    "y_0 = [S_0,I_0,R_0]"
   ]
  },
  {
   "cell_type": "code",
   "execution_count": null,
   "id": "2e9bd9a7",
   "metadata": {},
   "outputs": [],
   "source": [
    "# Defining some time points:\n",
    "\n",
    "t = np.linspace(start=1,stop=100,num=100)\n",
    "\n",
    "#Solving the differencial equation:\n",
    "\n",
    "y = odeint(f,y_0,t)"
   ]
  },
  {
   "cell_type": "code",
   "execution_count": null,
   "id": "a76634e3",
   "metadata": {},
   "outputs": [],
   "source": [
    "# To get values S, I, R from y, splicing is needed\n",
    "\n",
    "S = y[:,0]\n",
    "I = y[:,1]\n",
    "R = y[:,2]"
   ]
  },
  {
   "cell_type": "code",
   "execution_count": null,
   "id": "b8a5839d",
   "metadata": {},
   "outputs": [],
   "source": [
    "#Plotting the results\n",
    "\n",
    "plt.plot(t,S,'r',label='S(t)')\n",
    "plt.plot(t,I,'b',label='I(t)')\n",
    "plt.plot(t,R,'g',label='R(t)')\n",
    "plt.legend()\n",
    "plt.show()"
   ]
  },
  {
   "cell_type": "code",
   "execution_count": null,
   "id": "fc8a5b76",
   "metadata": {},
   "outputs": [],
   "source": []
  }
 ],
 "metadata": {
  "kernelspec": {
   "display_name": "Python 3 (ipykernel)",
   "language": "python",
   "name": "python3"
  },
  "language_info": {
   "codemirror_mode": {
    "name": "ipython",
    "version": 3
   },
   "file_extension": ".py",
   "mimetype": "text/x-python",
   "name": "python",
   "nbconvert_exporter": "python",
   "pygments_lexer": "ipython3",
   "version": "3.9.7"
  }
 },
 "nbformat": 4,
 "nbformat_minor": 5
}

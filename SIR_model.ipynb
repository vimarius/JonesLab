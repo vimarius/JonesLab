{
 "cells": [
  {
   "cell_type": "code",
   "execution_count": 1,
   "id": "ebdaa803",
   "metadata": {},
   "outputs": [],
   "source": [
    "from scipy.integrate import odeint\n",
    "import numpy as np\n",
    "import matplotlib.pyplot as plt"
   ]
  },
  {
   "cell_type": "markdown",
   "id": "4100d312",
   "metadata": {},
   "source": [
    "S(t) — the number of people who are susceptible to the disease\n",
    "\n",
    "I(t) — the number of people infected with the disease\n",
    "\n",
    "R(t) — those incapable of infecting others; either recovered or diseased \n",
    "\n",
    "S(t) + I(t) + R(t) = N (at any time t, where N is the total population)\n",
    "\n",
    "a - infection rate\n",
    "\n",
    "The possible interactions are the product of S(t) and I(t). The change in susceptible people is therefore\n",
    "\n",
    "S’(t) = -a*S(t)*I(t)\n",
    "\n",
    "The decrease in the number of susceptible people is the same as the increase in the number of infected people. To find the entire derivative of I(t), we must also consider those who have recovered or died after being infected. That is simply the recovery rate multiplied by the current number of infected individuals. With the recovery rate as b, we then have\n",
    "\n",
    "I’(t) = a*S(t)*I(t) — b*I(t)\n",
    "\n",
    "Calculating the derivative of R(t) is then a simple matter, as it is just the second term of I’(t). In the SIR model, recovery (or more aptly removal) only increases with time. The increase in R(t) is the product of the recovery rate and the infected population:\n",
    "\n",
    "R’(t) = b*I(t)"
   ]
  },
  {
   "cell_type": "code",
   "execution_count": 5,
   "id": "e46499f3",
   "metadata": {},
   "outputs": [],
   "source": [
    "# Finding the rate of change of each function\n",
    "\n",
    "a = 1 # infection rate\n",
    "b = 0.1 # recovery rate - any numbers for now, but let's say 10% of people recover"
   ]
  },
  {
   "cell_type": "code",
   "execution_count": 7,
   "id": "149b81b6",
   "metadata": {},
   "outputs": [],
   "source": [
    "# Function to calculate derivatives at time t\n",
    "\n",
    "def f(y,t):\n",
    "    S, I, R = y \n",
    "    d0 = -a*S*I # derivative of S(t)\n",
    "    d1 = a*S*I - b*I # derivative of I(t)\n",
    "    d2 = b*I # derivative of R(t)\n",
    "    return [d0, d1, d2]"
   ]
  },
  {
   "cell_type": "code",
   "execution_count": 23,
   "id": "b98fae29",
   "metadata": {},
   "outputs": [],
   "source": [
    "# Let's give some initial values to predict:\n",
    "\n",
    "S_0 = 1\n",
    "I_0 = 5/1000000\n",
    "R_0 = 0\n",
    "y_0 = [S_0,I_0,R_0]"
   ]
  },
  {
   "cell_type": "code",
   "execution_count": 13,
   "id": "2e9bd9a7",
   "metadata": {},
   "outputs": [],
   "source": [
    "# Defining some time points:\n",
    "\n",
    "t = np.linspace(start=1,stop=100,num=100)\n",
    "\n",
    "#Solving the differencial equation:\n",
    "\n",
    "y = odeint(f,y_0,t)"
   ]
  },
  {
   "cell_type": "code",
   "execution_count": 25,
   "id": "a76634e3",
   "metadata": {},
   "outputs": [],
   "source": [
    "# To get values S, I, R from y, splicing is needed\n",
    "\n",
    "S = y[:,0]\n",
    "I = y[:,1]\n",
    "R = y[:,2]"
   ]
  },
  {
   "cell_type": "code",
   "execution_count": 26,
   "id": "b8a5839d",
   "metadata": {},
   "outputs": [
    {
     "data": {
      "image/png": "[encoded data removed]",
      "text/plain": [
       "<Figure size 432x288 with 1 Axes>"
      ]
     },
     "metadata": {
      "needs_background": "light"
     },
     "output_type": "display_data"
    }
   ],
   "source": [
    "#Plotting the results\n",
    "\n",
    "plt.plot(t,S,'r',label='S(t)')\n",
    "plt.plot(t,I,'b',label='I(t)')\n",
    "plt.plot(t,R,'g',label='R(t)')\n",
    "plt.legend()\n",
    "plt.show()"
   ]
  },
  {
   "cell_type": "code",
   "execution_count": null,
   "id": "69472e7b",
   "metadata": {},
   "outputs": [],
   "source": []
  }
 ],
 "metadata": {
  "kernelspec": {
   "display_name": "Python 3 (ipykernel)",
   "language": "python",
   "name": "python3"
  },
  "language_info": {
   "codemirror_mode": {
    "name": "ipython",
    "version": 3
   },
   "file_extension": ".py",
   "mimetype": "text/x-python",
   "name": "python",
   "nbconvert_exporter": "python",
   "pygments_lexer": "ipython3",
   "version": "3.9.7"
  }
 },
 "nbformat": 4,
 "nbformat_minor": 5
}

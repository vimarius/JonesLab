{
 "cells": [
  {
   "cell_type": "markdown",
   "id": "ae68c77d",
   "metadata": {},
   "source": [
    "# Example 1: T19T + U19G CY5"
   ]
  },
  {
   "cell_type": "markdown",
   "id": "ed90c1f1",
   "metadata": {},
   "source": [
    "## Gather required libraries"
   ]
  },
  {
   "cell_type": "code",
   "execution_count": 1,
   "id": "ebdaa803",
   "metadata": {},
   "outputs": [],
   "source": [
    "import scipy\n",
    "from scipy.integrate import odeint\n",
    "import numpy as np\n",
    "from scipy.optimize import curve_fit\n",
    "from scipy.optimize import least_squares\n",
    "import matplotlib.pyplot as plt\n",
    "from scipy.integrate import solve_ivp\n",
    "import pandas as pd"
   ]
  },
  {
   "cell_type": "markdown",
   "id": "c88fbd5a",
   "metadata": {},
   "source": [
    "## Test data"
   ]
  },
  {
   "cell_type": "code",
   "execution_count": 2,
   "id": "4563451c",
   "metadata": {},
   "outputs": [
    {
     "data": {
      "text/html": [
       "<div>\n",
       "<style scoped>\n",
       "    .dataframe tbody tr th:only-of-type {\n",
       "        vertical-align: middle;\n",
       "    }\n",
       "\n",
       "    .dataframe tbody tr th {\n",
       "        vertical-align: top;\n",
       "    }\n",
       "\n",
       "    .dataframe thead th {\n",
       "        text-align: right;\n",
       "    }\n",
       "</style>\n",
       "<table border=\"1\" class=\"dataframe\">\n",
       "  <thead>\n",
       "    <tr style=\"text-align: right;\">\n",
       "      <th></th>\n",
       "      <th>Time_Points</th>\n",
       "      <th>Substrate</th>\n",
       "      <th>Product_1</th>\n",
       "      <th>Product_2</th>\n",
       "    </tr>\n",
       "  </thead>\n",
       "  <tbody>\n",
       "    <tr>\n",
       "      <th>0</th>\n",
       "      <td>0</td>\n",
       "      <td>1.000</td>\n",
       "      <td>0.000</td>\n",
       "      <td>0.000</td>\n",
       "    </tr>\n",
       "    <tr>\n",
       "      <th>1</th>\n",
       "      <td>10</td>\n",
       "      <td>0.440</td>\n",
       "      <td>0.024</td>\n",
       "      <td>0.054</td>\n",
       "    </tr>\n",
       "    <tr>\n",
       "      <th>2</th>\n",
       "      <td>30</td>\n",
       "      <td>0.216</td>\n",
       "      <td>0.099</td>\n",
       "      <td>0.168</td>\n",
       "    </tr>\n",
       "    <tr>\n",
       "      <th>3</th>\n",
       "      <td>60</td>\n",
       "      <td>0.164</td>\n",
       "      <td>0.105</td>\n",
       "      <td>0.201</td>\n",
       "    </tr>\n",
       "    <tr>\n",
       "      <th>4</th>\n",
       "      <td>180</td>\n",
       "      <td>0.111</td>\n",
       "      <td>0.123</td>\n",
       "      <td>0.240</td>\n",
       "    </tr>\n",
       "    <tr>\n",
       "      <th>5</th>\n",
       "      <td>360</td>\n",
       "      <td>0.079</td>\n",
       "      <td>0.117</td>\n",
       "      <td>0.249</td>\n",
       "    </tr>\n",
       "    <tr>\n",
       "      <th>6</th>\n",
       "      <td>1800</td>\n",
       "      <td>0.056</td>\n",
       "      <td>0.216</td>\n",
       "      <td>0.161</td>\n",
       "    </tr>\n",
       "    <tr>\n",
       "      <th>7</th>\n",
       "      <td>6000</td>\n",
       "      <td>0.000</td>\n",
       "      <td>0.155</td>\n",
       "      <td>0.224</td>\n",
       "    </tr>\n",
       "  </tbody>\n",
       "</table>\n",
       "</div>"
      ],
      "text/plain": [
       "   Time_Points  Substrate  Product_1  Product_2\n",
       "0            0      1.000      0.000      0.000\n",
       "1           10      0.440      0.024      0.054\n",
       "2           30      0.216      0.099      0.168\n",
       "3           60      0.164      0.105      0.201\n",
       "4          180      0.111      0.123      0.240\n",
       "5          360      0.079      0.117      0.249\n",
       "6         1800      0.056      0.216      0.161\n",
       "7         6000      0.000      0.155      0.224"
      ]
     },
     "execution_count": 2,
     "metadata": {},
     "output_type": "execute_result"
    }
   ],
   "source": [
    "data = pd.read_csv(\"T19T + U19G CY5_results.csv\", comment='#',sep=',') #T19T + U19G CY5\n",
    "data"
   ]
  },
  {
   "cell_type": "code",
   "execution_count": 3,
   "id": "2c5b67a1",
   "metadata": {},
   "outputs": [],
   "source": [
    "# Given data (time and substrate concentration)\n",
    "\n",
    "time_data = np.array(data[\"Time_Points\"])  # Time points\n",
    "substrate_data = np.array(data[\"Substrate\"])  # Substrate concentration over time\n",
    "product_data1 = np.array(data[\"Product_1\"])  # Concentration of product 1 over time\n",
    "product_data2 = np.array(data[\"Product_2\"])  # Concentration of product 2 over time"
   ]
  },
  {
   "cell_type": "markdown",
   "id": "36bad0c0",
   "metadata": {},
   "source": [
    "## Define functions"
   ]
  },
  {
   "cell_type": "code",
   "execution_count": 4,
   "id": "a83e55b8",
   "metadata": {},
   "outputs": [],
   "source": [
    "# Define exponential depletion function for substrate (initial DNA)\n",
    "def initial_dna_depletion(t, k_depletion):\n",
    "    return np.exp(-k_depletion * t)\n",
    "\n",
    "#-------------------------------------------------------------------------------------------------------------------------------\n",
    "\n",
    "# Define exponential growth function for product formation \n",
    "def product_formation_system_1(t, k_formation1, k_formation2, C1):\n",
    "    C2 = 1 - C1\n",
    "    formation_product1 = C1 * (1 - np.exp(-k_formation1 * t))\n",
    "    formation_product2 = C2 * (1 - np.exp(-k_formation2 * t))\n",
    "    return formation_product1, formation_product2\n",
    "\n",
    "# Define the coupled ODE system for substrate depletion and product formation \n",
    "def ode_system_1(t, y, k_depletion, k_formation1, k_formation2, C1):\n",
    "    S, P1, P2 = y\n",
    "    C2 = 1 - C1\n",
    "    dSdt = -k_depletion * S\n",
    "    dP1dt = k_formation1 * S * C1 * (1 - P2-S)\n",
    "    dP2dt = k_formation2 * S * C2 * (1 - P1-S)\n",
    "    return [dSdt, dP1dt, dP2dt]\n",
    "\n",
    "# Define the objective function for least squares minimization \n",
    "def objective_function_1(params):\n",
    "    k_depletion, k_formation1, k_formation2, C1 = params\n",
    "    # params is a list or array containing the parameters that we want to optimize\n",
    "    y_predicted = solve_ivp(lambda t, y: ode_system_1(t, y, k_depletion, k_formation1, k_formation2, C1), [time_data[0],\n",
    "                                                    time_data[-1]], [substrate_data[0], product_data1[0], product_data2[0]],\n",
    "                                                    t_eval=time_data).y\n",
    "    \n",
    "    #The solve_ivp function from scipy.integrate is used to numerically solve the system of ordinary differential equations \n",
    "    #(ODEs) defined by the function ode_system.\n",
    "    \n",
    "    #We pass the parameters (k_depletion, k_formation1, k_formation2, and C1) along with the initial conditions\n",
    "    #([substrate_data[0], product_data1[0], product_data2[0]]) to the ode_system.\n",
    "    \n",
    "    #The time span for integration is defined by [time_data[0], time_data[-1]], where time_data contains the time points at \n",
    "    #which the data is observed.\n",
    "\n",
    "    #t_eval=time_data ensures that the solver evaluates the solution at the same time points where the data is available.\n",
    "\n",
    "    residuals_substrate = y_predicted[0] - substrate_data\n",
    "    residuals_product1 = y_predicted[1] - product_data1\n",
    "    residuals_product2 = y_predicted[2] - product_data2\n",
    "    return np.concatenate((residuals_substrate, residuals_product1, residuals_product2))\n",
    "\n",
    "#-------------------------------------------------------------------------------------------------------------------------------\n",
    "\n",
    "def r_squared(y_true, y_pred):\n",
    "    mean_y = np.mean(y_true)\n",
    "    ss_total = np.sum((y_true - mean_y)**2)\n",
    "    ss_residual = np.sum((y_true - y_pred)**2)\n",
    "    return 1 - (ss_residual / ss_total)\n",
    "\n",
    "def sum_squared_residuals(y_true, y_pred):\n",
    "    return np.sum((y_true - y_pred)**2)"
   ]
  },
  {
   "cell_type": "markdown",
   "id": "8df877f0",
   "metadata": {},
   "source": [
    "## Perform fitting"
   ]
  },
  {
   "cell_type": "code",
   "execution_count": 5,
   "id": "1bd11281",
   "metadata": {
    "scrolled": true
   },
   "outputs": [],
   "source": [
    "# Initial guess for parameters\n",
    "initial_guess1 = [0.1, 0.1, 0.1, 0.5]  # Example initial guess for the parameters\n",
    "\n",
    "# Fit the objective function to the data using least squares\n",
    "result = least_squares(objective_function_1, initial_guess1)\n",
    "\n",
    "# Extract the optimal parameters\n",
    "k_depletion_opt, k_formation1_opt1, k_formation2_opt1, fraction_opt = result.x\n",
    "\n",
    "# Generate points for the fitted curves for substrate and products\n",
    "substrate_fit = initial_dna_depletion(time_data, k_depletion_opt)\n",
    "product1_fit1, product2_fit1 = product_formation_system_1(time_data, k_formation1_opt1, k_formation2_opt1, fraction_opt)"
   ]
  },
  {
   "cell_type": "markdown",
   "id": "7aefd7c5",
   "metadata": {},
   "source": [
    "## Plot the fitting "
   ]
  },
  {
   "cell_type": "code",
   "execution_count": 6,
   "id": "7850711b",
   "metadata": {},
   "outputs": [
    {
     "data": {
      "image/png": "[encoded data removed]",
      "text/plain": [
       "<Figure size 720x432 with 1 Axes>"
      ]
     },
     "metadata": {
      "needs_background": "light"
     },
     "output_type": "display_data"
    },
    {
     "name": "stdout",
     "output_type": "stream",
     "text": [
      "Optimal parameters:\n",
      "k_depletion: 0.06277544404027086\n",
      "k_formation1: 0.0535247662434827\n",
      "k_formation2: 0.05024295432485864\n",
      "fraction 1: 0.39467646875912005\n",
      "fraction 2: 0.60532353124088\n"
     ]
    }
   ],
   "source": [
    "x_values = np.linspace(0, 6000, 1000)\n",
    "\n",
    "# Generate points for the fitted curves for substrate and products\n",
    "substrate_fit = initial_dna_depletion(x_values, k_depletion_opt)\n",
    "product1_fit1, product2_fit1 = product_formation_system_1(x_values, k_formation1_opt1, k_formation2_opt1, fraction_opt)\n",
    "\n",
    "# Plotting the results\n",
    "plt.figure(figsize=(10, 6))\n",
    "\n",
    "# Plot the original data\n",
    "plt.scatter(time_data, substrate_data, label='Substrate Data', color='blue')\n",
    "plt.scatter(time_data, product_data1, label='Product 1 Data', color='green')\n",
    "plt.scatter(time_data, product_data2, label='Product 2 Data', color='red')\n",
    "\n",
    "# Plot the fitted curves\n",
    "plt.plot(x_values, substrate_fit, 'b-', label='Fitted Exponential (Substrate)')\n",
    "plt.plot(x_values, product1_fit1, 'g-', label='Product 1 Fitted Curve')\n",
    "plt.plot(x_values, product2_fit1, 'r-', label='Product 2 Fitted Curve')\n",
    "\n",
    "plt.xlabel('Time')\n",
    "plt.ylabel('Concentration')\n",
    "plt.title('Fitted Model')\n",
    "plt.legend()\n",
    "plt.show()\n",
    "\n",
    "# Print optimal parameters\n",
    "print(\"Optimal parameters:\")\n",
    "print(\"k_depletion:\", k_depletion_opt)\n",
    "print(\"k_formation1:\", k_formation1_opt1)\n",
    "print(\"k_formation2:\", k_formation2_opt1)\n",
    "print(\"fraction 1:\", fraction_opt)\n",
    "print(\"fraction 2:\", 1-fraction_opt)"
   ]
  },
  {
   "cell_type": "markdown",
   "id": "bb1de1c0",
   "metadata": {},
   "source": [
    "## Determine the quality of the fit "
   ]
  },
  {
   "cell_type": "code",
   "execution_count": 7,
   "id": "2e9decdc",
   "metadata": {
    "scrolled": true
   },
   "outputs": [
    {
     "name": "stdout",
     "output_type": "stream",
     "text": [
      "R-squared (Substrate): 0.9279503780942582\n",
      "R-squared (Product 1): -48.01860618809384\n",
      "Sum of Squared Residuals (Substrate): 0.054419475698327294\n",
      "Sum of Squared Residuals (Product 1): 1.6132452209305828\n"
     ]
    }
   ],
   "source": [
    "# Calculate R-squared for substrate and products\n",
    "r_squared_substrate = r_squared(substrate_data, initial_dna_depletion(time_data, k_depletion_opt))\n",
    "r_squared_product1 = r_squared(product_data1, product_formation_system_1(time_data, k_formation1_opt1, k_formation2_opt1, \n",
    "                                                                        fraction_opt))\n",
    "\n",
    "# Calculate sum of squared residuals for substrate and products\n",
    "ssr_substrate = sum_squared_residuals(substrate_data, initial_dna_depletion(time_data, k_depletion_opt))\n",
    "ssr_product1 = sum_squared_residuals(product_data1, product_formation_system_1(time_data, k_formation1_opt1, k_formation2_opt1, \n",
    "                                                                        fraction_opt))\n",
    "\n",
    "print(\"R-squared (Substrate):\", r_squared_substrate)\n",
    "print(\"R-squared (Product 1):\", r_squared_product1)\n",
    "\n",
    "print(\"Sum of Squared Residuals (Substrate):\", ssr_substrate)\n",
    "print(\"Sum of Squared Residuals (Product 1):\", ssr_product1)\n"
   ]
  }
 ],
 "metadata": {
  "kernelspec": {
   "display_name": "Python 3 (ipykernel)",
   "language": "python",
   "name": "python3"
  },
  "language_info": {
   "codemirror_mode": {
    "name": "ipython",
    "version": 3
   },
   "file_extension": ".py",
   "mimetype": "text/x-python",
   "name": "python",
   "nbconvert_exporter": "python",
   "pygments_lexer": "ipython3",
   "version": "3.9.7"
  }
 },
 "nbformat": 4,
 "nbformat_minor": 5
}

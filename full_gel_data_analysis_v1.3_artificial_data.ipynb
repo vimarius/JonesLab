{
 "cells": [
  {
   "cell_type": "markdown",
   "id": "57298def",
   "metadata": {},
   "source": [
    "**I. Data upload, preparation and normalization**"
   ]
  },
  {
   "cell_type": "markdown",
   "id": "d7d6eab6",
   "metadata": {},
   "source": [
    "1. Importing packages and libraries."
   ]
  },
  {
   "cell_type": "code",
   "execution_count": null,
   "id": "da1b5dc3",
   "metadata": {},
   "outputs": [],
   "source": [
    "import numpy as np\n",
    "import scipy\n",
    "import pandas as pd\n",
    "import math\n",
    "import matplotlib.pyplot as plt\n",
    "from scipy.signal import find_peaks, argrelextrema, peak_widths\n",
    "from scipy.optimize import curve_fit\n",
    "from pybaselines import Baseline\n",
    "from sklearn.metrics import auc\n",
    "import cv2\n",
    "#tuckeys test"
   ]
  },
  {
   "cell_type": "code",
   "execution_count": null,
   "id": "33d2c673",
   "metadata": {},
   "outputs": [],
   "source": [
    "cy5_excel = \"data/1 T19G + U19U CY5.xlsx\""
   ]
  },
  {
   "cell_type": "code",
   "execution_count": null,
   "id": "b4b80835",
   "metadata": {},
   "outputs": [],
   "source": [
    "grey_values_list = [\"Grey_Values_T0\", \"Grey_Values_T10s\", \"Grey_Values_T30s\", \"Grey_Values_T1M\", \"Grey_Values_T3M\", \"Grey_Values_T6M\",\n",
    "                   \"Grey_Values_T30M\", \"Grey_Values_T100M\", \"Grey_Values_L1\", \"Grey_Values_L2\"]"
   ]
  },
  {
   "cell_type": "code",
   "execution_count": null,
   "id": "63b974cc",
   "metadata": {},
   "outputs": [],
   "source": [
    "# Uploading the data of all lanes.\n",
    "\n",
    "#CY5\n",
    "data_cy5 = pd.read_excel(cy5_excel)\n",
    "\n",
    "for d in data_cy5:\n",
    "    for l in grey_values_list:\n",
    "        if d == l:\n",
    "            data_cy5 = data_cy5.rename(columns={d: d+'_CY5'})"
   ]
  },
  {
   "cell_type": "code",
   "execution_count": null,
   "id": "e94a4f71",
   "metadata": {},
   "outputs": [],
   "source": [
    "data = data_cy5.filter([\"Distance\", \"Grey_Values_T6M_CY5\"], axis=1)"
   ]
  },
  {
   "cell_type": "code",
   "execution_count": null,
   "id": "3559ebba",
   "metadata": {
    "scrolled": true
   },
   "outputs": [],
   "source": [
    "plt.figure(figsize=(14, 4))\n",
    "plt.plot(data[\"Distance\"],data[\"Grey_Values_T6M_CY5\"], linewidth = 2.5)\n",
    "\n",
    "plt.xlabel(\"Distance\")\n",
    "plt.ylabel(\"Intensity Values\")\n",
    "#plt.legend()\n"
   ]
  },
  {
   "cell_type": "markdown",
   "id": "539d8f32",
   "metadata": {},
   "source": [
    "2. Removing background."
   ]
  },
  {
   "cell_type": "code",
   "execution_count": null,
   "id": "2b660e92",
   "metadata": {},
   "outputs": [],
   "source": [
    "baseline_fitter = Baseline(x_data=data[\"Distance\"])\n",
    "imodpoly = baseline_fitter.imodpoly(data[\"Grey_Values_T6M_CY5\"], poly_order=3, num_std=0.8)\n",
    "new_y = data[\"Grey_Values_T6M_CY5\"]-imodpoly[0]\n",
    "new_y[new_y < 0] = 0\n",
    "data[\"Grey_Values_T6M_CY5_baseline\"] = new_y"
   ]
  },
  {
   "cell_type": "code",
   "execution_count": null,
   "id": "a3524d18",
   "metadata": {},
   "outputs": [],
   "source": [
    "plt.figure(figsize=(14, 4))\n",
    "plt.plot(data[\"Distance\"],data[\"Grey_Values_T6M_CY5_baseline\"], linewidth = 2.5)\n",
    "\n",
    "plt.xlabel(\"Distance\")\n",
    "plt.ylabel(\"Intensity Values\")"
   ]
  },
  {
   "cell_type": "markdown",
   "id": "8204ca7a",
   "metadata": {},
   "source": [
    "3. Creating test data - adjusting the height of the peaks, removing most of the imperfections."
   ]
  },
  {
   "cell_type": "code",
   "execution_count": null,
   "id": "ed1d7900",
   "metadata": {},
   "outputs": [],
   "source": [
    "new_y2 = data[\"Grey_Values_T6M_CY5_baseline\"]*2\n",
    "new_y2[new_y2 < 1200] = 1200\n",
    "data[\"Grey_Values_T6M_CY5_baseline_2\"] = new_y2"
   ]
  },
  {
   "cell_type": "code",
   "execution_count": null,
   "id": "4da4e1b7",
   "metadata": {},
   "outputs": [],
   "source": [
    "plt.figure(figsize=(14, 4))\n",
    "plt.plot(data[\"Distance\"],data[\"Grey_Values_T6M_CY5_baseline_2\"], linewidth = 2.5)\n",
    "\n",
    "plt.xlabel(\"Distance\")\n",
    "plt.ylabel(\"Intensity Values\")"
   ]
  },
  {
   "cell_type": "code",
   "execution_count": null,
   "id": "26c94fd3",
   "metadata": {},
   "outputs": [],
   "source": [
    "baseline_fitter = Baseline(x_data=data[\"Distance\"])\n",
    "imodpoly3 = baseline_fitter.imodpoly(data[\"Grey_Values_T6M_CY5_baseline_2\"], poly_order=3, num_std=0.8)\n",
    "new_y3 = data[\"Grey_Values_T6M_CY5_baseline_2\"]-imodpoly3[0]\n",
    "new_y3[new_y3 < 0] = 0\n",
    "data[\"Grey_Values_T6M_CY5_baseline_3\"] = new_y3"
   ]
  },
  {
   "cell_type": "code",
   "execution_count": null,
   "id": "3322f272",
   "metadata": {},
   "outputs": [],
   "source": [
    "plt.figure(figsize=(14, 4))\n",
    "plt.plot(data[\"Distance\"],data[\"Grey_Values_T6M_CY5_baseline_3\"], linewidth = 2.5)\n",
    "\n",
    "plt.xlabel(\"Distance\")\n",
    "plt.ylabel(\"Intensity Values\")"
   ]
  },
  {
   "cell_type": "markdown",
   "id": "56a55630",
   "metadata": {},
   "source": [
    "4. Normalizing the distance in the test lane."
   ]
  },
  {
   "cell_type": "code",
   "execution_count": null,
   "id": "f25b0c0b",
   "metadata": {},
   "outputs": [],
   "source": [
    "peaks_list = []\n",
    "peaks, values = find_peaks(data[\"Grey_Values_T6M_CY5_baseline_3\"], height=1000)\n",
    "peak_values = data.iloc[peaks, 0]\n",
    "peak_values = list(peak_values)\n",
    "peak_data = (peak_values)\n",
    "peaks_list.append(peak_data)"
   ]
  },
  {
   "cell_type": "code",
   "execution_count": null,
   "id": "43ccc388",
   "metadata": {},
   "outputs": [],
   "source": [
    "# Markers (min and max values of peaks of each lane) are taken only from CY5 - CY3 tends to be more inconsitent.\n",
    "\n",
    "min_max_list = []\n",
    "\n",
    "for i in peaks_list:\n",
    "    min_peak = i[0]\n",
    "    max_peak = i[-1]\n",
    "    min_max = list((min_peak, max_peak))\n",
    "    min_max_list.append(min_max)\n",
    "min_max_list = min_max_list\n",
    "min_max_list"
   ]
  },
  {
   "cell_type": "code",
   "execution_count": null,
   "id": "2180cd0a",
   "metadata": {
    "scrolled": true
   },
   "outputs": [],
   "source": [
    "# Normalizing the distance\n",
    "\n",
    "norm_list = []\n",
    "name_list = [\"Test Data\"]\n",
    "\n",
    "for i, n in min_max_list:\n",
    "    norm_distance = ((data[\"Distance\"] - i) / (n - i))\n",
    "    norm_list.append(norm_distance)\n",
    "\n",
    "data[\"Test_Data_norm_distance\"] = np.reshape(norm_list, (-1, 1))"
   ]
  },
  {
   "cell_type": "code",
   "execution_count": null,
   "id": "befc4d8c",
   "metadata": {},
   "outputs": [],
   "source": [
    "data"
   ]
  },
  {
   "cell_type": "markdown",
   "id": "d5735861",
   "metadata": {},
   "source": [
    "5. Plotting the 0-1 normalized data."
   ]
  },
  {
   "cell_type": "code",
   "execution_count": null,
   "id": "fb44e0f7",
   "metadata": {},
   "outputs": [],
   "source": [
    "plt.figure(figsize=(14, 4))\n",
    "plt.plot(data[\"Test_Data_norm_distance\"],data[\"Grey_Values_T6M_CY5_baseline_3\"], linewidth = 2.5)\n",
    "\n",
    "plt.xlabel(\"Distance\")\n",
    "plt.ylabel(\"Intensity Values\")"
   ]
  },
  {
   "cell_type": "code",
   "execution_count": null,
   "id": "00c51329",
   "metadata": {},
   "outputs": [],
   "source": [
    "plt.figure(figsize=(14, 4))\n",
    "plt.plot(data[\"Test_Data_norm_distance\"],data[\"Grey_Values_T6M_CY5_baseline_3\"], linewidth = 2.5)\n",
    "\n",
    "plt.xlabel(\"Distance\")\n",
    "plt.ylabel(\"Intensity Values\")\n",
    "plt.xlim(0, 1)"
   ]
  },
  {
   "cell_type": "markdown",
   "id": "9d8182a8",
   "metadata": {},
   "source": [
    "**II. Ladder**"
   ]
  },
  {
   "cell_type": "markdown",
   "id": "4d011e1e",
   "metadata": {},
   "source": [
    "1. Finding the peak values. "
   ]
  },
  {
   "cell_type": "code",
   "execution_count": null,
   "id": "6687b3ff",
   "metadata": {},
   "outputs": [],
   "source": [
    "data_ladder = pd.read_csv(\"Ladder1_CY5_norm_distance.csv\", comment='#',sep=',')\n",
    "data_ladder.loc[len(data_ladder)] = {\"Ladder1_CY5_norm_distance\" : 1.059032, \"Grey_Values_L1_CY5_baseline\" : 22.244741}\n",
    "data_ladder"
   ]
  },
  {
   "cell_type": "code",
   "execution_count": null,
   "id": "d2f4eabe",
   "metadata": {
    "scrolled": false
   },
   "outputs": [],
   "source": [
    "#Laddder lane 1 (CY5)\n",
    "\n",
    "plt.figure(figsize=(15,6))\n",
    "plot = plt.plot(data_ladder[\"Ladder1_CY5_norm_distance\"], data_ladder['Grey_Values_L1_CY5_baseline'])\n",
    "plt.xlabel(\"Distance, cm\")\n",
    "plt.ylabel(\"Grey Values\")\n",
    "\n",
    "plt.show()"
   ]
  },
  {
   "cell_type": "code",
   "execution_count": null,
   "id": "4744f030",
   "metadata": {},
   "outputs": [],
   "source": [
    "#Finding ladder 1 peak values:\n",
    "\n",
    "peaks_l1, values_l1 = find_peaks(data_ladder['Grey_Values_L1_CY5_baseline'], height=600)\n",
    "peak_values_l1 = data_ladder.iloc[peaks_l1, 0]\n",
    "peak_values_l1 = list(peak_values_l1)\n",
    "peak_values_l1"
   ]
  },
  {
   "cell_type": "code",
   "execution_count": null,
   "id": "ae37b40c",
   "metadata": {},
   "outputs": [],
   "source": [
    "plt.figure(figsize=(15,6))\n",
    "plot = plt.plot(data_ladder[\"Ladder1_CY5_norm_distance\"], data_ladder['Grey_Values_L1_CY5_baseline'])\n",
    "plt.scatter(peak_values_l1, values_l1.values(), color='red')\n",
    "plt.xlabel(\"Distance, cm\")\n",
    "plt.ylabel(\"Grey Values\")\n",
    "plt.show()"
   ]
  },
  {
   "cell_type": "code",
   "execution_count": null,
   "id": "4524a09b",
   "metadata": {},
   "outputs": [],
   "source": [
    "cut_x_data = data_ladder['Ladder1_CY5_norm_distance']\n",
    "cut_x_data = cut_x_data[peaks_l1[0]:peaks_l1[-1]+1]\n",
    "\n",
    "cut_y_data = data_ladder['Grey_Values_L1_CY5_baseline']\n",
    "cut_y_data = cut_y_data[peaks_l1[0]:peaks_l1[-1]+1]"
   ]
  },
  {
   "cell_type": "code",
   "execution_count": null,
   "id": "a8bf8062",
   "metadata": {},
   "outputs": [],
   "source": [
    "plt.figure(figsize=(15,6))\n",
    "plot = plt.plot(cut_x_data, cut_y_data)\n",
    "plt.scatter(peak_values_l1, values_l1.values(), color='red')\n",
    "plt.xlabel(\"Distance, cm\")\n",
    "plt.ylabel(\"Grey Values\")\n",
    "plt.show()"
   ]
  },
  {
   "cell_type": "markdown",
   "id": "4190fdcd",
   "metadata": {},
   "source": [
    "2.1  Converting distance to nt. Exponential distance between peaks based on a single equation of all data points."
   ]
  },
  {
   "cell_type": "code",
   "execution_count": null,
   "id": "2f6c27ed",
   "metadata": {},
   "outputs": [],
   "source": [
    "ladder_lane = [141, 116, 81, 71, 66, 60, 55, 51, 46, 41, 35, 28]"
   ]
  },
  {
   "cell_type": "code",
   "execution_count": null,
   "id": "e0ea7273",
   "metadata": {
    "scrolled": false
   },
   "outputs": [],
   "source": [
    "ladder_df = pd.DataFrame(ladder_lane, columns=[\"Ladder\"])\n",
    "values_df = pd.DataFrame(peak_values_l1, columns=[\"Norm. distance\"])\n",
    "curve_data = pd.concat([ladder_df, values_df], axis=1)\n",
    "curve_data "
   ]
  },
  {
   "cell_type": "code",
   "execution_count": null,
   "id": "087c57e2",
   "metadata": {},
   "outputs": [],
   "source": [
    "def fitting_function(xs, ys):\n",
    "\n",
    "    const_list = []\n",
    "    \n",
    "    # perform the fit\n",
    "    p0 = (60, 1, 30) # start with values near those we expect\n",
    "    params, cv = scipy.optimize.curve_fit(monoExp, xs, ys, p0, maxfev=5000)\n",
    "    m, t, b = params\n",
    "\n",
    "    # determine quality of the fit\n",
    "    squaredDiffs = np.square(ys - monoExp(xs, m, t, b))\n",
    "    squaredDiffsFromMean = np.square(ys - np.mean(ys))\n",
    "    rSquared = 1 - np.sum(squaredDiffs) / np.sum(squaredDiffsFromMean)\n",
    "    print(f\"R² = {rSquared}\")\n",
    "\n",
    "    # plot the results\n",
    "    plt.figure(figsize=(10,6))\n",
    "    plt.plot(xs, ys, '.', label=\"data\")\n",
    "    model_x = np.arange(np.min(xs), np.max(xs), step = 0.01)\n",
    "    plt.plot(model_x, monoExp(model_x, m, t, b), label=\"fitted\")\n",
    "   # plt.title(\"Fitted Exponential Curve\")\n",
    "\n",
    "    # inspect the parameters\n",
    "    print(f\"Y = {m} * e^(-{t} * x) + {b}\")\n",
    "    \n",
    "    const_list.append(m)\n",
    "    const_list.append(t)\n",
    "    const_list.append(b)\n",
    "    \n",
    "    return const_list\n",
    "\n",
    "def monoExp(x, m, t, b):\n",
    "    return m * np.exp(-t * x) + b\n",
    "    "
   ]
  },
  {
   "cell_type": "code",
   "execution_count": null,
   "id": "cb20ff86",
   "metadata": {},
   "outputs": [],
   "source": [
    "curve_data_list = curve_data.values.tolist()\n",
    "curve_data_list"
   ]
  },
  {
   "cell_type": "code",
   "execution_count": null,
   "id": "973ec434",
   "metadata": {},
   "outputs": [],
   "source": [
    "curve_data_list_nt = []\n",
    "curve_data_list_dist = []\n",
    "\n",
    "for i, n  in curve_data_list:\n",
    "    curve_data_list_nt.append(i)\n",
    "    curve_data_list_dist.append(n)"
   ]
  },
  {
   "cell_type": "code",
   "execution_count": null,
   "id": "e0a6324c",
   "metadata": {},
   "outputs": [],
   "source": [
    "overlap = 3\n",
    "size = 4\n",
    "\n",
    "overlap_list_nt = []\n",
    "overlap_list_dist = []\n",
    "\n",
    "for i in range(0, len(curve_data_list_nt) - overlap, size - overlap):            \n",
    "    k = curve_data_list_nt[i:i + size]\n",
    "    j = curve_data_list_dist[i:i + size]\n",
    "    overlap_list_nt.append(k)\n",
    "    overlap_list_dist.append(j)"
   ]
  },
  {
   "cell_type": "code",
   "execution_count": null,
   "id": "81bee1e2",
   "metadata": {
    "scrolled": true
   },
   "outputs": [],
   "source": [
    "values_list = []\n",
    "for i in range(len(overlap_list_dist)):\n",
    "    xs = np.array(overlap_list_dist[i])\n",
    "    ys = np.array(overlap_list_nt[i])\n",
    "    a = fitting_function(xs, ys)\n",
    "    values_list.append(a)"
   ]
  },
  {
   "cell_type": "code",
   "execution_count": null,
   "id": "9e5d1268",
   "metadata": {},
   "outputs": [],
   "source": [
    "ranges_list = []\n",
    "data_ranges_list = []\n",
    "\n",
    "for i in range(len(peaks_l1)):\n",
    "    if i+1 != len(peaks_l1):\n",
    "        ranges = list((peaks_l1[i], peaks_l1[i+1]))\n",
    "        ranges_list.append(ranges)\n",
    "\n",
    "for i, n in ranges_list:\n",
    "    data_range = list(cut_x_data[i-peaks_l1[0]:n-peaks_l1[0]+1])\n",
    "    data_ranges_list.append(data_range)"
   ]
  },
  {
   "cell_type": "code",
   "execution_count": null,
   "id": "d85b3cd0",
   "metadata": {},
   "outputs": [],
   "source": [
    "# Dividing data into ranges and removing overlapping values \n",
    "\n",
    "new_data_ranges_list = [list(dict.fromkeys(data_ranges_list[0]+data_ranges_list[1])), data_ranges_list[2], data_ranges_list[3],\n",
    "                       data_ranges_list[4], data_ranges_list[5], data_ranges_list[6], data_ranges_list[7], data_ranges_list[8],\n",
    "                       list(dict.fromkeys(data_ranges_list[9]+data_ranges_list[10]))]\n",
    "\n",
    "for i in range(len(new_data_ranges_list)-1):\n",
    "    remove_last = new_data_ranges_list[i]\n",
    "    del remove_last[-1]"
   ]
  },
  {
   "cell_type": "code",
   "execution_count": null,
   "id": "560b2777",
   "metadata": {
    "scrolled": true
   },
   "outputs": [],
   "source": [
    "exp_x_list_4p = []\n",
    "\n",
    "for j, k in enumerate(new_data_ranges_list):\n",
    "    for i in k:\n",
    "        values_list1 = values_list[j]\n",
    "        value = values_list1[0] * math.exp(-values_list1[1]*i)+values_list1[2]\n",
    "        exp_x_list_4p.append(value)\n",
    "        \n",
    "exp_x_list_4p"
   ]
  },
  {
   "cell_type": "markdown",
   "id": "f8076382",
   "metadata": {},
   "source": [
    "**3. AUC**"
   ]
  },
  {
   "cell_type": "markdown",
   "id": "b4b7288e",
   "metadata": {},
   "source": [
    "1. Applying conversion to nt."
   ]
  },
  {
   "cell_type": "code",
   "execution_count": null,
   "id": "840dc024",
   "metadata": {},
   "outputs": [],
   "source": [
    "cut_test_distance_data = data[\"Test_Data_norm_distance\"]\n",
    "cut_test_distance_data = cut_test_distance_data[peaks_l1[0]:peaks_l1[-1]+1]\n",
    "\n",
    "cut_test_grey_data = data[\"Grey_Values_T6M_CY5_baseline_3\"]\n",
    "cut_test_grey_data = cut_test_grey_data[peaks_l1[0]:peaks_l1[-1]+1]"
   ]
  },
  {
   "cell_type": "code",
   "execution_count": null,
   "id": "a89a7d58",
   "metadata": {
    "scrolled": false
   },
   "outputs": [],
   "source": [
    "plt.figure(figsize=(15,6))\n",
    "plot = plt.plot(cut_test_distance_data, cut_test_grey_data)####\n",
    "#ax = plt.gca().invert_xaxis()\n",
    "plt.xlabel(\"Size in nt\")\n",
    "plt.ylabel(\"Grey Values\")\n",
    "plt.show()"
   ]
  },
  {
   "cell_type": "code",
   "execution_count": null,
   "id": "077af1ef",
   "metadata": {},
   "outputs": [],
   "source": [
    "# Creating new data ranges for test data\n",
    "\n",
    "data_ranges_list_test = []\n",
    "\n",
    "for i, n in ranges_list:\n",
    "    data_range = list(cut_test_distance_data[i-peaks_l1[0]:n-peaks_l1[0]+1])\n",
    "    data_ranges_list_test.append(data_range)"
   ]
  },
  {
   "cell_type": "code",
   "execution_count": null,
   "id": "b9a1b9d3",
   "metadata": {},
   "outputs": [],
   "source": [
    "# Dividing data into ranges and removing overlapping values \n",
    "\n",
    "new_data_ranges_list_test = [list(dict.fromkeys(data_ranges_list_test[0]+data_ranges_list_test[1])), data_ranges_list_test[2], data_ranges_list_test[3],\n",
    "                       data_ranges_list_test[4], data_ranges_list_test[5], data_ranges_list_test[6], data_ranges_list_test[7], data_ranges_list_test[8],\n",
    "                       list(dict.fromkeys(data_ranges_list_test[9]+data_ranges_list_test[10]))]\n",
    "\n",
    "for i in range(len(new_data_ranges_list_test)-1):\n",
    "    remove_last = new_data_ranges_list_test[i]\n",
    "    del remove_last[-1]"
   ]
  },
  {
   "cell_type": "code",
   "execution_count": null,
   "id": "935c304e",
   "metadata": {},
   "outputs": [],
   "source": [
    "exp_test_x_list = []\n",
    "\n",
    "for j, k in enumerate(new_data_ranges_list_test):\n",
    "    print(j)\n",
    "    for i in k:\n",
    "        values_list1 = values_list[j]\n",
    "        print(values_list[2])\n",
    "        value = values_list1[0] * math.exp(-values_list1[1]*i)+values_list1[2]\n",
    "        exp_test_x_list.append(value)"
   ]
  },
  {
   "cell_type": "code",
   "execution_count": null,
   "id": "ef4a780a",
   "metadata": {},
   "outputs": [],
   "source": [
    "plt.figure(figsize=(15,6))\n",
    "plot = plt.plot(exp_test_x_list, cut_test_grey_data)####\n",
    "ax = plt.gca().invert_xaxis()\n",
    "plt.xlabel(\"Size in nt\")\n",
    "plt.ylabel(\"Grey Values\")\n",
    "plt.show()"
   ]
  },
  {
   "cell_type": "code",
   "execution_count": null,
   "id": "29fc0cfe",
   "metadata": {},
   "outputs": [],
   "source": [
    "values_ladder = pd.DataFrame(exp_test_x_list, columns=[\"Exp X\"])\n",
    "cut_data = pd.concat([values_ladder, cut_test_grey_data.reset_index()], axis=1)\n",
    "cut_data"
   ]
  },
  {
   "cell_type": "code",
   "execution_count": null,
   "id": "7974b73b",
   "metadata": {},
   "outputs": [],
   "source": [
    "peaks_list = []\n",
    "peaks, values = find_peaks(cut_test_grey_data, height=1000)\n",
    "peak_values = cut_data.iloc[peaks, 0]\n",
    "peak_values = list(peak_values)\n",
    "peak_data = (peak_values)\n",
    "peaks_list.append(peak_data)"
   ]
  },
  {
   "cell_type": "code",
   "execution_count": null,
   "id": "4df5c78f",
   "metadata": {},
   "outputs": [],
   "source": [
    "plt.figure(figsize=(15,6))\n",
    "plot = plt.plot(exp_test_x_list, cut_test_grey_data)####\n",
    "plt.scatter(peak_values, values.values(), color='red')\n",
    "ax = plt.gca().invert_xaxis()\n",
    "plt.xlabel(\"Size in nt\")\n",
    "plt.ylabel(\"Grey Values\")\n",
    "plt.show()"
   ]
  },
  {
   "cell_type": "code",
   "execution_count": null,
   "id": "0308130d",
   "metadata": {},
   "outputs": [],
   "source": [
    "widths, width_heights, left_ips, right_ips = peak_widths(cut_test_grey_data, peaks, rel_height=1)"
   ]
  },
  {
   "cell_type": "code",
   "execution_count": null,
   "id": "c0c2fab6",
   "metadata": {},
   "outputs": [],
   "source": [
    "from scipy.interpolate import interp1d\n",
    "\n",
    "def index_to_xdata(xdata, indices):\n",
    "    \"interpolate the values from signal.peak_widths to xdata\"\n",
    "    ind = np.arange(len(xdata))\n",
    "    f = interp1d(ind,xdata)\n",
    "    return f(indices)\n",
    "\n",
    "widths1 = index_to_xdata(exp_test_x_list, widths)\n",
    "left_ips1 = index_to_xdata(exp_test_x_list, left_ips)\n",
    "right_ips1 = index_to_xdata(exp_test_x_list, right_ips)"
   ]
  },
  {
   "cell_type": "code",
   "execution_count": null,
   "id": "2c310953",
   "metadata": {
    "scrolled": false
   },
   "outputs": [],
   "source": [
    "plt.figure(figsize=(15,6))\n",
    "plot = plt.plot(exp_test_x_list, cut_test_grey_data)####\n",
    "plt.scatter(peak_values, values.values(), color='red')\n",
    "plt.hlines(width_heights, left_ips1, right_ips1, color='r')\n",
    "ax = plt.gca().invert_xaxis()\n",
    "plt.xlabel(\"Size in nt\")\n",
    "plt.ylabel(\"Grey Values\")\n",
    "plt.show()"
   ]
  },
  {
   "cell_type": "markdown",
   "id": "cdfc725a",
   "metadata": {},
   "source": [
    "2. Selecting intact DNA area."
   ]
  },
  {
   "cell_type": "code",
   "execution_count": null,
   "id": "7c1a90cc",
   "metadata": {},
   "outputs": [],
   "source": [
    "left_ips = list(left_ips)\n",
    "right_ips = list(right_ips)\n",
    "for i, n in enumerate(left_ips):\n",
    "    left_ips[i] = int(n)\n",
    "    \n",
    "for i, n in enumerate(right_ips):\n",
    "    right_ips[i] = int(n)\n"
   ]
  },
  {
   "cell_type": "code",
   "execution_count": null,
   "id": "9e993c82",
   "metadata": {},
   "outputs": [],
   "source": [
    "intact_dna_area = auc(exp_test_x_list[left_ips[1]:right_ips[1]], cut_test_grey_data[left_ips[1]:right_ips[1]])"
   ]
  },
  {
   "cell_type": "code",
   "execution_count": null,
   "id": "2010cfc9",
   "metadata": {},
   "outputs": [],
   "source": [
    "intact_dna_area"
   ]
  },
  {
   "cell_type": "markdown",
   "id": "e0f5832b",
   "metadata": {},
   "source": [
    "3. Selecting cut DNA I area."
   ]
  },
  {
   "cell_type": "code",
   "execution_count": null,
   "id": "49ece63a",
   "metadata": {},
   "outputs": [],
   "source": [
    "cut_dna_i_area = auc(exp_test_x_list[left_ips[2]:right_ips[2]], cut_test_grey_data[left_ips[2]:right_ips[2]])"
   ]
  },
  {
   "cell_type": "code",
   "execution_count": null,
   "id": "36c0acac",
   "metadata": {},
   "outputs": [],
   "source": [
    "cut_dna_i_area"
   ]
  },
  {
   "cell_type": "markdown",
   "id": "cc61d11e",
   "metadata": {},
   "source": [
    "4. Selecting cut DNA II area."
   ]
  },
  {
   "cell_type": "code",
   "execution_count": null,
   "id": "cc639326",
   "metadata": {},
   "outputs": [],
   "source": [
    "cut_dna_ii_area = auc(exp_test_x_list[left_ips[3]:right_ips[3]], cut_test_grey_data[left_ips[3]:right_ips[3]])"
   ]
  },
  {
   "cell_type": "code",
   "execution_count": null,
   "id": "2d75a5cb",
   "metadata": {},
   "outputs": [],
   "source": [
    "cut_dna_ii_area"
   ]
  },
  {
   "cell_type": "code",
   "execution_count": null,
   "id": "b7919203",
   "metadata": {},
   "outputs": [],
   "source": [
    "plt.figure(figsize=(15,6))\n",
    "plot = plt.plot(exp_test_x_list, cut_test_grey_data)####\n",
    "plt.fill_between(exp_test_x_list[left_ips[1]:right_ips[1]], cut_test_grey_data[left_ips[1]:right_ips[1]], color='yellow', alpha=0.3)\n",
    "plt.fill_between(exp_test_x_list[left_ips[2]:right_ips[2]], cut_test_grey_data[left_ips[2]:right_ips[2]], color='green', alpha=0.3)\n",
    "plt.fill_between(exp_test_x_list[left_ips[3]:right_ips[3]], cut_test_grey_data[left_ips[3]:right_ips[3]], color='blue', alpha=0.3)\n",
    "ax = plt.gca().invert_xaxis()\n",
    "plt.xlabel(\"Size in nt\")\n",
    "plt.ylabel(\"Grey Values\")\n",
    "plt.show()"
   ]
  },
  {
   "cell_type": "markdown",
   "id": "5902742e",
   "metadata": {},
   "source": [
    "5. Normalizing the each area with the total area."
   ]
  },
  {
   "cell_type": "code",
   "execution_count": null,
   "id": "30e30866",
   "metadata": {},
   "outputs": [],
   "source": [
    "total_area = intact_dna_area+cut_dna_i_area+cut_dna_ii_area\n",
    "total_area"
   ]
  },
  {
   "cell_type": "code",
   "execution_count": null,
   "id": "9bdfabb3",
   "metadata": {},
   "outputs": [],
   "source": [
    "intact_norm_list = []\n",
    "intact_norm = intact_dna_area/total_area\n",
    "intact_norm_list.append(intact_norm)\n",
    "intact_norm_list"
   ]
  },
  {
   "cell_type": "code",
   "execution_count": null,
   "id": "c2689410",
   "metadata": {},
   "outputs": [],
   "source": [
    "cut_dna_i_norm_list = []\n",
    "cut_dna_i_norm = cut_dna_i_area/total_area\n",
    "cut_dna_i_norm_list.append(cut_dna_i_norm)\n",
    "cut_dna_i_norm_list"
   ]
  },
  {
   "cell_type": "code",
   "execution_count": null,
   "id": "b5c8ddbe",
   "metadata": {},
   "outputs": [],
   "source": [
    "cut_dna_ii_norm_list = []\n",
    "cut_dna_ii_norm = cut_dna_ii_area/total_area\n",
    "cut_dna_ii_norm_list.append(cut_dna_ii_norm)\n",
    "cut_dna_ii_norm_list"
   ]
  },
  {
   "cell_type": "code",
   "execution_count": null,
   "id": "684a1ee0",
   "metadata": {},
   "outputs": [],
   "source": [
    "#auc_percent_substrate_list[-1] = 0\n",
    "#time_points = [0, 10, 30, 60, 180, 360, 1800, 6000]\n",
    "time_points = [360]\n",
    "time = pd.DataFrame(time_points, columns=[\"Time_Points, s\"])\n",
    "auc_int_dna = pd.DataFrame(intact_norm_list, columns=[\"Intact DNA\"])\n",
    "auc_cut_dna_i = pd.DataFrame(cut_dna_i_norm_list, columns=[\"Cut DNA I\"])\n",
    "auc_cut_dna_ii = pd.DataFrame(cut_dna_ii_norm_list, columns=[\"Cut DNA II\"])\n",
    "df = pd.concat([time, auc_int_dna, auc_cut_dna_i, auc_cut_dna_ii], axis=1)\n",
    "df"
   ]
  },
  {
   "cell_type": "code",
   "execution_count": null,
   "id": "2531191d",
   "metadata": {},
   "outputs": [],
   "source": [
    "df.to_csv('analysis_results.csv', encoding='utf-8', index = False, header = False)"
   ]
  }
 ],
 "metadata": {
  "kernelspec": {
   "display_name": "Python 3 (ipykernel)",
   "language": "python",
   "name": "python3"
  },
  "language_info": {
   "codemirror_mode": {
    "name": "ipython",
    "version": 3
   },
   "file_extension": ".py",
   "mimetype": "text/x-python",
   "name": "python",
   "nbconvert_exporter": "python",
   "pygments_lexer": "ipython3",
   "version": "3.9.7"
  }
 },
 "nbformat": 4,
 "nbformat_minor": 5
}
